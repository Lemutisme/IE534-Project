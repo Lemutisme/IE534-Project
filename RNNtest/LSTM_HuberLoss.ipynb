{
 "cells": [
  {
   "cell_type": "markdown",
   "metadata": {},
   "source": [
    "# LSTM Prediction for the Unemployment rate of California\n",
    "\n",
    "writen by Duo"
   ]
  },
  {
   "cell_type": "markdown",
   "metadata": {},
   "source": [
    "## Setting"
   ]
  },
  {
   "cell_type": "code",
   "execution_count": 1,
   "metadata": {},
   "outputs": [],
   "source": [
    "import numpy as np\n",
    "import pandas as pd\n",
    "import warnings\n",
    "\n",
    "import matplotlib.pyplot as plt\n",
    "\n",
    "import torch\n",
    "from torch import nn\n",
    "from torch.autograd import Variable\n",
    "\n",
    "from sklearn.preprocessing import StandardScaler\n",
    "from sklearn.model_selection import train_test_split"
   ]
  },
  {
   "cell_type": "code",
   "execution_count": 2,
   "metadata": {},
   "outputs": [],
   "source": [
    "pd.set_option('display.max_columns', None)\n",
    "pd.options.display.float_format = '{:.2f}'.format\n",
    "warnings.filterwarnings('ignore')"
   ]
  },
  {
   "cell_type": "code",
   "execution_count": 3,
   "metadata": {},
   "outputs": [
    {
     "name": "stdout",
     "output_type": "stream",
     "text": [
      "Training on GPU.\n"
     ]
    }
   ],
   "source": [
    "device = torch.device(\"cpu\")\n",
    " \n",
    "if (torch.cuda.is_available()):\n",
    "    device = torch.device(\"cuda:0\")\n",
    "    print('Training on GPU.')\n",
    "else:\n",
    "    print('No GPU available, training on CPU.')"
   ]
  },
  {
   "cell_type": "markdown",
   "metadata": {},
   "source": [
    "## Dataset\n"
   ]
  },
  {
   "cell_type": "code",
   "execution_count": 4,
   "metadata": {},
   "outputs": [
    {
     "name": "stdout",
     "output_type": "stream",
     "text": [
      "local file not found; accessing Google Drive\n"
     ]
    }
   ],
   "source": [
    "def getfile(location_pair,**kwargs): #tries to get local version and then defaults to google drive version\n",
    "    (loc,gdrive)=location_pair\n",
    "    try:\n",
    "        out=pd.read_csv(loc,**kwargs)\n",
    "    except FileNotFoundError:\n",
    "        print(\"local file not found; accessing Google Drive\")\n",
    "        loc = 'https://drive.google.com/uc?export=download&id='+gdrive.split('/')[-2]\n",
    "        out = pd.read_csv(loc,**kwargs)\n",
    "    return out\n",
    "\n",
    "\n",
    "fname=(\"Local_Area_Unemployment_Statistics__LAUS_.csv\",\"https://drive.google.com/file/d/1xoDHEKiN-y4QyZNET8SdlVRSsgW_7TLy/view?usp=sharing\")\n",
    "data=getfile(fname)"
   ]
  },
  {
   "cell_type": "code",
   "execution_count": 5,
   "metadata": {},
   "outputs": [],
   "source": [
    "data['Date']= pd.to_datetime(data['Date'])\n",
    "data['ts'] = data.Date.values.astype(np.int64) # convert datetime to pandas timestamps\n",
    "data['Employment Rate']=data['Employment ']/data['Labor Force']\n",
    "data.columns = ['Area Type', 'Area Name', 'Date', 'Year', 'Month',\n",
    "       'Seasonally Adjusted (Y/N)', 'Status (Preliminary / Final)',\n",
    "       'Labor Force', 'Employment', 'Unemployment', 'Unemployment Rate','ts','Employment Rate']\n",
    "cat_col = ['Area Type', 'Area Name','Seasonally Adjusted (Y/N)', 'Status (Preliminary / Final)']\n",
    "time_col = ['Date', 'Year', 'Month']\n",
    "num_col = ['Labor Force', 'Employment', 'Unemployment', 'Unemployment Rate', 'ts', 'Employment Rate']"
   ]
  },
  {
   "cell_type": "code",
   "execution_count": 6,
   "metadata": {},
   "outputs": [
    {
     "data": {
      "text/html": [
       "<div>\n",
       "<style scoped>\n",
       "    .dataframe tbody tr th:only-of-type {\n",
       "        vertical-align: middle;\n",
       "    }\n",
       "\n",
       "    .dataframe tbody tr th {\n",
       "        vertical-align: top;\n",
       "    }\n",
       "\n",
       "    .dataframe thead th {\n",
       "        text-align: right;\n",
       "    }\n",
       "</style>\n",
       "<table border=\"1\" class=\"dataframe\">\n",
       "  <thead>\n",
       "    <tr style=\"text-align: right;\">\n",
       "      <th></th>\n",
       "      <th>Area Type</th>\n",
       "      <th>Area Name</th>\n",
       "      <th>Date</th>\n",
       "      <th>Year</th>\n",
       "      <th>Month</th>\n",
       "      <th>Seasonally Adjusted (Y/N)</th>\n",
       "      <th>Status (Preliminary / Final)</th>\n",
       "      <th>Labor Force</th>\n",
       "      <th>Employment</th>\n",
       "      <th>Unemployment</th>\n",
       "      <th>Unemployment Rate</th>\n",
       "      <th>ts</th>\n",
       "      <th>Employment Rate</th>\n",
       "    </tr>\n",
       "  </thead>\n",
       "  <tbody>\n",
       "    <tr>\n",
       "      <th>0</th>\n",
       "      <td>State</td>\n",
       "      <td>California</td>\n",
       "      <td>1976-01-01</td>\n",
       "      <td>1976</td>\n",
       "      <td>January</td>\n",
       "      <td>N</td>\n",
       "      <td>Final</td>\n",
       "      <td>9672362</td>\n",
       "      <td>8668016</td>\n",
       "      <td>1004346</td>\n",
       "      <td>0.10</td>\n",
       "      <td>189302400000000000</td>\n",
       "      <td>0.90</td>\n",
       "    </tr>\n",
       "    <tr>\n",
       "      <th>1</th>\n",
       "      <td>State</td>\n",
       "      <td>California</td>\n",
       "      <td>1976-01-01</td>\n",
       "      <td>1976</td>\n",
       "      <td>January</td>\n",
       "      <td>Y</td>\n",
       "      <td>Final</td>\n",
       "      <td>9774280</td>\n",
       "      <td>8875685</td>\n",
       "      <td>898595</td>\n",
       "      <td>0.09</td>\n",
       "      <td>189302400000000000</td>\n",
       "      <td>0.91</td>\n",
       "    </tr>\n",
       "    <tr>\n",
       "      <th>2</th>\n",
       "      <td>County</td>\n",
       "      <td>Los Angeles County</td>\n",
       "      <td>1976-01-01</td>\n",
       "      <td>1976</td>\n",
       "      <td>January</td>\n",
       "      <td>N</td>\n",
       "      <td>Final</td>\n",
       "      <td>3364151</td>\n",
       "      <td>3040058</td>\n",
       "      <td>324093</td>\n",
       "      <td>0.10</td>\n",
       "      <td>189302400000000000</td>\n",
       "      <td>0.90</td>\n",
       "    </tr>\n",
       "    <tr>\n",
       "      <th>3</th>\n",
       "      <td>County</td>\n",
       "      <td>Los Angeles County</td>\n",
       "      <td>1976-01-01</td>\n",
       "      <td>1976</td>\n",
       "      <td>January</td>\n",
       "      <td>Y</td>\n",
       "      <td>Final</td>\n",
       "      <td>3381856</td>\n",
       "      <td>3081806</td>\n",
       "      <td>300050</td>\n",
       "      <td>0.09</td>\n",
       "      <td>189302400000000000</td>\n",
       "      <td>0.91</td>\n",
       "    </tr>\n",
       "    <tr>\n",
       "      <th>4</th>\n",
       "      <td>Metropolitan Area</td>\n",
       "      <td>Los Angeles-Long Beach-Glendale MD</td>\n",
       "      <td>1976-01-01</td>\n",
       "      <td>1976</td>\n",
       "      <td>January</td>\n",
       "      <td>N</td>\n",
       "      <td>Final</td>\n",
       "      <td>3364151</td>\n",
       "      <td>3040058</td>\n",
       "      <td>324093</td>\n",
       "      <td>0.10</td>\n",
       "      <td>189302400000000000</td>\n",
       "      <td>0.90</td>\n",
       "    </tr>\n",
       "  </tbody>\n",
       "</table>\n",
       "</div>"
      ],
      "text/plain": [
       "           Area Type                           Area Name       Date  Year  \\\n",
       "0              State                          California 1976-01-01  1976   \n",
       "1              State                          California 1976-01-01  1976   \n",
       "2             County                  Los Angeles County 1976-01-01  1976   \n",
       "3             County                  Los Angeles County 1976-01-01  1976   \n",
       "4  Metropolitan Area  Los Angeles-Long Beach-Glendale MD 1976-01-01  1976   \n",
       "\n",
       "     Month Seasonally Adjusted (Y/N) Status (Preliminary / Final)  \\\n",
       "0  January                         N                        Final   \n",
       "1  January                         Y                        Final   \n",
       "2  January                         N                        Final   \n",
       "3  January                         Y                        Final   \n",
       "4  January                         N                        Final   \n",
       "\n",
       "   Labor Force  Employment  Unemployment  Unemployment Rate  \\\n",
       "0      9672362     8668016       1004346               0.10   \n",
       "1      9774280     8875685        898595               0.09   \n",
       "2      3364151     3040058        324093               0.10   \n",
       "3      3381856     3081806        300050               0.09   \n",
       "4      3364151     3040058        324093               0.10   \n",
       "\n",
       "                   ts  Employment Rate  \n",
       "0  189302400000000000             0.90  \n",
       "1  189302400000000000             0.91  \n",
       "2  189302400000000000             0.90  \n",
       "3  189302400000000000             0.91  \n",
       "4  189302400000000000             0.90  "
      ]
     },
     "execution_count": 6,
     "metadata": {},
     "output_type": "execute_result"
    }
   ],
   "source": [
    "data.head()"
   ]
  },
  {
   "cell_type": "code",
   "execution_count": 7,
   "metadata": {},
   "outputs": [
    {
     "data": {
      "text/plain": [
       "<bound method DataFrame.info of                 Area Type                           Area Name       Date  \\\n",
       "0                   State                          California 1976-01-01   \n",
       "1                   State                          California 1976-01-01   \n",
       "2                  County                  Los Angeles County 1976-01-01   \n",
       "3                  County                  Los Angeles County 1976-01-01   \n",
       "4       Metropolitan Area  Los Angeles-Long Beach-Glendale MD 1976-01-01   \n",
       "...                   ...                                 ...        ...   \n",
       "191122                MSA                   Yuba City, CA MSA 2022-04-01   \n",
       "191123                MSA                   Yuba City, CA MSA 2022-05-01   \n",
       "191124                MSA                   Yuba City, CA MSA 2022-06-01   \n",
       "191125                MSA                   Yuba City, CA MSA 2022-07-01   \n",
       "191126                MSA                   Yuba City, CA MSA 2022-08-01   \n",
       "\n",
       "        Year    Month Seasonally Adjusted (Y/N) Status (Preliminary / Final)  \\\n",
       "0       1976  January                         N                        Final   \n",
       "1       1976  January                         Y                        Final   \n",
       "2       1976  January                         N                        Final   \n",
       "3       1976  January                         Y                        Final   \n",
       "4       1976  January                         N                        Final   \n",
       "...      ...      ...                       ...                          ...   \n",
       "191122  2022    April                         Y                        Final   \n",
       "191123  2022      May                         Y                        Final   \n",
       "191124  2022     June                         Y                        Final   \n",
       "191125  2022     July                         Y                        Final   \n",
       "191126  2022   August                         Y                       Prelim   \n",
       "\n",
       "        Labor Force  Employment  Unemployment  Unemployment Rate  \\\n",
       "0           9672362     8668016       1004346               0.10   \n",
       "1           9774280     8875685        898595               0.09   \n",
       "2           3364151     3040058        324093               0.10   \n",
       "3           3381856     3081806        300050               0.09   \n",
       "4           3364151     3040058        324093               0.10   \n",
       "...             ...         ...           ...                ...   \n",
       "191122        76952       72469          4483               0.06   \n",
       "191123        76982       72704          4278               0.06   \n",
       "191124        76953       72757          4196               0.06   \n",
       "191125        76873       72681          4192               0.06   \n",
       "191126        76920       72509          4411               0.06   \n",
       "\n",
       "                         ts  Employment Rate  \n",
       "0        189302400000000000             0.90  \n",
       "1        189302400000000000             0.91  \n",
       "2        189302400000000000             0.90  \n",
       "3        189302400000000000             0.91  \n",
       "4        189302400000000000             0.90  \n",
       "...                     ...              ...  \n",
       "191122  1648771200000000000             0.94  \n",
       "191123  1651363200000000000             0.94  \n",
       "191124  1654041600000000000             0.95  \n",
       "191125  1656633600000000000             0.95  \n",
       "191126  1659312000000000000             0.94  \n",
       "\n",
       "[191127 rows x 13 columns]>"
      ]
     },
     "execution_count": 7,
     "metadata": {},
     "output_type": "execute_result"
    }
   ],
   "source": [
    "data.info"
   ]
  },
  {
   "cell_type": "code",
   "execution_count": 8,
   "metadata": {},
   "outputs": [
    {
     "data": {
      "text/plain": [
       "California                            1122\n",
       "Los Angeles-Long Beach-Glendale MD    1122\n",
       "Los Angeles County                    1122\n",
       "Tuolumne County                        393\n",
       "Hanford-Corcoran MSA                   393\n",
       "                                      ... \n",
       "Hawaiian Gardens city                  153\n",
       "Hawthorne city                         153\n",
       "Hayfork CDP                            153\n",
       "Hayward city                           153\n",
       "Lakewood city                          153\n",
       "Name: Area Name, Length: 1050, dtype: int64"
      ]
     },
     "execution_count": 8,
     "metadata": {},
     "output_type": "execute_result"
    }
   ],
   "source": [
    "data[\"Area Name\"].value_counts()"
   ]
  },
  {
   "cell_type": "code",
   "execution_count": 9,
   "metadata": {},
   "outputs": [
    {
     "data": {
      "text/plain": [
       "January      16193\n",
       "February     16193\n",
       "March        16193\n",
       "April        16193\n",
       "May          16193\n",
       "June         16193\n",
       "July         16193\n",
       "August       16193\n",
       "September    16163\n",
       "October      15140\n",
       "November     15140\n",
       "December     15140\n",
       "Name: Month, dtype: int64"
      ]
     },
     "execution_count": 9,
     "metadata": {},
     "output_type": "execute_result"
    }
   ],
   "source": [
    "data[\"Month\"].value_counts()"
   ]
  },
  {
   "cell_type": "markdown",
   "metadata": {},
   "source": [
    "## Data Processing"
   ]
  },
  {
   "cell_type": "code",
   "execution_count": 10,
   "metadata": {},
   "outputs": [],
   "source": [
    "def Area_chosen(place = 'California'):\n",
    "    subData = data.loc[(data['Area Name'] == place)]\n",
    "    subData = subData.loc[(subData['Seasonally Adjusted (Y/N)']=='N')]\n",
    "    subData = subData.loc[(subData['Status (Preliminary / Final)']=='Final')]\n",
    "    return subData\n"
   ]
  },
  {
   "cell_type": "code",
   "execution_count": 11,
   "metadata": {},
   "outputs": [
    {
     "data": {
      "text/html": [
       "<div>\n",
       "<style scoped>\n",
       "    .dataframe tbody tr th:only-of-type {\n",
       "        vertical-align: middle;\n",
       "    }\n",
       "\n",
       "    .dataframe tbody tr th {\n",
       "        vertical-align: top;\n",
       "    }\n",
       "\n",
       "    .dataframe thead th {\n",
       "        text-align: right;\n",
       "    }\n",
       "</style>\n",
       "<table border=\"1\" class=\"dataframe\">\n",
       "  <thead>\n",
       "    <tr style=\"text-align: right;\">\n",
       "      <th></th>\n",
       "      <th>R-5</th>\n",
       "      <th>R-4</th>\n",
       "      <th>R-3</th>\n",
       "      <th>R-2</th>\n",
       "      <th>R-1</th>\n",
       "      <th>R-0</th>\n",
       "    </tr>\n",
       "    <tr>\n",
       "      <th>Date</th>\n",
       "      <th></th>\n",
       "      <th></th>\n",
       "      <th></th>\n",
       "      <th></th>\n",
       "      <th></th>\n",
       "      <th></th>\n",
       "    </tr>\n",
       "  </thead>\n",
       "  <tbody>\n",
       "    <tr>\n",
       "      <th>1976-06-01</th>\n",
       "      <td>0.10</td>\n",
       "      <td>0.10</td>\n",
       "      <td>0.09</td>\n",
       "      <td>0.09</td>\n",
       "      <td>0.08</td>\n",
       "      <td>0.09</td>\n",
       "    </tr>\n",
       "    <tr>\n",
       "      <th>1976-07-01</th>\n",
       "      <td>0.10</td>\n",
       "      <td>0.09</td>\n",
       "      <td>0.09</td>\n",
       "      <td>0.08</td>\n",
       "      <td>0.09</td>\n",
       "      <td>0.10</td>\n",
       "    </tr>\n",
       "    <tr>\n",
       "      <th>1976-08-01</th>\n",
       "      <td>0.09</td>\n",
       "      <td>0.09</td>\n",
       "      <td>0.08</td>\n",
       "      <td>0.09</td>\n",
       "      <td>0.10</td>\n",
       "      <td>0.09</td>\n",
       "    </tr>\n",
       "    <tr>\n",
       "      <th>1976-09-01</th>\n",
       "      <td>0.09</td>\n",
       "      <td>0.08</td>\n",
       "      <td>0.09</td>\n",
       "      <td>0.10</td>\n",
       "      <td>0.09</td>\n",
       "      <td>0.09</td>\n",
       "    </tr>\n",
       "    <tr>\n",
       "      <th>1976-10-01</th>\n",
       "      <td>0.08</td>\n",
       "      <td>0.09</td>\n",
       "      <td>0.10</td>\n",
       "      <td>0.09</td>\n",
       "      <td>0.09</td>\n",
       "      <td>0.09</td>\n",
       "    </tr>\n",
       "    <tr>\n",
       "      <th>...</th>\n",
       "      <td>...</td>\n",
       "      <td>...</td>\n",
       "      <td>...</td>\n",
       "      <td>...</td>\n",
       "      <td>...</td>\n",
       "      <td>...</td>\n",
       "    </tr>\n",
       "    <tr>\n",
       "      <th>2022-04-01</th>\n",
       "      <td>0.05</td>\n",
       "      <td>0.05</td>\n",
       "      <td>0.06</td>\n",
       "      <td>0.05</td>\n",
       "      <td>0.04</td>\n",
       "      <td>0.04</td>\n",
       "    </tr>\n",
       "    <tr>\n",
       "      <th>2022-05-01</th>\n",
       "      <td>0.05</td>\n",
       "      <td>0.06</td>\n",
       "      <td>0.05</td>\n",
       "      <td>0.04</td>\n",
       "      <td>0.04</td>\n",
       "      <td>0.04</td>\n",
       "    </tr>\n",
       "    <tr>\n",
       "      <th>2022-06-01</th>\n",
       "      <td>0.06</td>\n",
       "      <td>0.05</td>\n",
       "      <td>0.04</td>\n",
       "      <td>0.04</td>\n",
       "      <td>0.04</td>\n",
       "      <td>0.04</td>\n",
       "    </tr>\n",
       "    <tr>\n",
       "      <th>2022-07-01</th>\n",
       "      <td>0.05</td>\n",
       "      <td>0.04</td>\n",
       "      <td>0.04</td>\n",
       "      <td>0.04</td>\n",
       "      <td>0.04</td>\n",
       "      <td>0.04</td>\n",
       "    </tr>\n",
       "    <tr>\n",
       "      <th>2022-08-01</th>\n",
       "      <td>0.04</td>\n",
       "      <td>0.04</td>\n",
       "      <td>0.04</td>\n",
       "      <td>0.04</td>\n",
       "      <td>0.04</td>\n",
       "      <td>0.04</td>\n",
       "    </tr>\n",
       "  </tbody>\n",
       "</table>\n",
       "<p>555 rows × 6 columns</p>\n",
       "</div>"
      ],
      "text/plain": [
       "            R-5  R-4  R-3  R-2  R-1  R-0\n",
       "Date                                    \n",
       "1976-06-01 0.10 0.10 0.09 0.09 0.08 0.09\n",
       "1976-07-01 0.10 0.09 0.09 0.08 0.09 0.10\n",
       "1976-08-01 0.09 0.09 0.08 0.09 0.10 0.09\n",
       "1976-09-01 0.09 0.08 0.09 0.10 0.09 0.09\n",
       "1976-10-01 0.08 0.09 0.10 0.09 0.09 0.09\n",
       "...         ...  ...  ...  ...  ...  ...\n",
       "2022-04-01 0.05 0.05 0.06 0.05 0.04 0.04\n",
       "2022-05-01 0.05 0.06 0.05 0.04 0.04 0.04\n",
       "2022-06-01 0.06 0.05 0.04 0.04 0.04 0.04\n",
       "2022-07-01 0.05 0.04 0.04 0.04 0.04 0.04\n",
       "2022-08-01 0.04 0.04 0.04 0.04 0.04 0.04\n",
       "\n",
       "[555 rows x 6 columns]"
      ]
     },
     "execution_count": 11,
     "metadata": {},
     "output_type": "execute_result"
    }
   ],
   "source": [
    "city = 'California' # chose your city in california or see the data of all state\n",
    "subData = Area_chosen(city)\n",
    "\n",
    "df = subData[['Date', 'Unemployment Rate']]\n",
    "df.set_index([\"Date\"], inplace=True)\n",
    "df = df.sort_index(ascending=True)\n",
    "order = []\n",
    "for i in range(6):\n",
    "    j = 'R-' + str(i)\n",
    "    df[j] = df['Unemployment Rate'].shift(i)\n",
    "    order.append(j)\n",
    "order.reverse()\n",
    "df = df.dropna()\n",
    "df = df[order]\n",
    "df"
   ]
  },
  {
   "cell_type": "code",
   "execution_count": 12,
   "metadata": {},
   "outputs": [],
   "source": [
    "S = StandardScaler()\n",
    "Ss = S.fit_transform(df)\n",
    "Ss = Ss.astype('float32')"
   ]
  },
  {
   "cell_type": "code",
   "execution_count": 13,
   "metadata": {},
   "outputs": [],
   "source": [
    "y = Ss[:,-1]\n",
    "X = np.delete(Ss,-1,axis=1)\n",
    "#X = np.array(X.astype('float32'))\n",
    "train_x, test_x, train_y, test_y = train_test_split(X, y, test_size=0.2, shuffle = False)"
   ]
  },
  {
   "cell_type": "code",
   "execution_count": 14,
   "metadata": {},
   "outputs": [],
   "source": [
    "# ----------------- train -------------------\n",
    "INPUT_FEATURES_NUM = 5\n",
    "OUTPUT_FEATURES_NUM = 1\n",
    "train_x_tensor = train_x.reshape(-1, 1, INPUT_FEATURES_NUM)  # set batch size to 1\n",
    "train_y_tensor = train_y.reshape(-1, 1, OUTPUT_FEATURES_NUM)  # set batch size to 1\n",
    " \n",
    "# transfer data to pytorch tensor\n",
    "train_x_tensor = torch.from_numpy(train_x_tensor).to(device)\n",
    "train_y_tensor = torch.from_numpy(train_y_tensor).to(device)"
   ]
  },
  {
   "cell_type": "markdown",
   "metadata": {},
   "source": [
    "## LSTM Model"
   ]
  },
  {
   "cell_type": "code",
   "execution_count": 15,
   "metadata": {},
   "outputs": [],
   "source": [
    "class LstmRNN(nn.Module):\n",
    "    \"\"\"\n",
    "        Parameters：\n",
    "        - input_size: feature size\n",
    "        - hidden_size: number of hidden units\n",
    "        - output_size: number of output\n",
    "        - num_layers: layers of LSTM to stack\n",
    "    \"\"\"\n",
    " \n",
    "    def __init__(self, input_size, hidden_size=1, output_size=1, num_layers=1):\n",
    "        super().__init__()\n",
    " \n",
    "        self.lstm = nn.LSTM(input_size, hidden_size, num_layers)  # utilize the LSTM model in torch.nn\n",
    "        self.linear1 = nn.Linear(hidden_size, output_size) #\n",
    " \n",
    "    def forward(self, _x):\n",
    "        x, _ = self.lstm(_x) # _x is input, size (seq_len, batch, input_size)\n",
    "        s, b, h = x.shape  # x is output, size (seq_len, batch, hidden_size)\n",
    "        x = x.view(s * b, h)\n",
    "        x = self.linear1(x)\n",
    "        x = x.view(s, b, -1)\n",
    "        return x"
   ]
  },
  {
   "cell_type": "code",
   "execution_count": 16,
   "metadata": {},
   "outputs": [
    {
     "name": "stdout",
     "output_type": "stream",
     "text": [
      "LSTM model: LstmRNN(\n",
      "  (lstm): LSTM(5, 20)\n",
      "  (linear1): Linear(in_features=20, out_features=1, bias=True)\n",
      ")\n",
      "model.parameters: <bound method Module.parameters of LstmRNN(\n",
      "  (lstm): LSTM(5, 20)\n",
      "  (linear1): Linear(in_features=20, out_features=1, bias=True)\n",
      ")>\n",
      "train x tensor dimension: torch.Size([444, 1, 5])\n",
      "cuda:0\n",
      "cuda:0\n",
      "cuda:0\n",
      "cuda:0\n",
      "cuda:0\n",
      "cuda:0\n"
     ]
    }
   ],
   "source": [
    "lstm_model = LstmRNN(INPUT_FEATURES_NUM, 20, output_size=OUTPUT_FEATURES_NUM, num_layers=1).to(device)  # 20 hidden units\n",
    "\n",
    "print('LSTM model:', lstm_model)\n",
    "print('model.parameters:', lstm_model.parameters)\n",
    "print('train x tensor dimension:', Variable(train_x_tensor).size())\n",
    " \n",
    "criterion = nn.HuberLoss()\n",
    "optimizer = torch.optim.Adam(lstm_model.parameters(), lr=1e-2)\n",
    " \n",
    "prev_loss = 2000\n",
    "max_epochs = 2000\n",
    "\n",
    "for m in lstm_model.parameters():\n",
    "    print(m.device)"
   ]
  },
  {
   "cell_type": "code",
   "execution_count": 17,
   "metadata": {},
   "outputs": [
    {
     "name": "stdout",
     "output_type": "stream",
     "text": [
      "Epoch: [100/2000], Loss:0.01479\n",
      "Epoch: [200/2000], Loss:0.01230\n",
      "Epoch: [300/2000], Loss:0.00987\n",
      "Epoch: [400/2000], Loss:0.00654\n",
      "Epoch: [500/2000], Loss:0.00446\n",
      "Epoch: [600/2000], Loss:0.00306\n",
      "Epoch: [700/2000], Loss:0.00244\n",
      "Epoch: [800/2000], Loss:0.00191\n",
      "Epoch: [900/2000], Loss:0.00272\n",
      "Epoch: [1000/2000], Loss:0.00163\n",
      "Epoch: [1100/2000], Loss:0.00162\n",
      "Epoch: [1200/2000], Loss:0.00108\n",
      "Epoch: [1300/2000], Loss:0.00090\n",
      "Epoch: [1400/2000], Loss:0.00072\n",
      "Epoch: [1500/2000], Loss:0.00059\n",
      "Epoch: [1600/2000], Loss:0.00049\n",
      "Epoch: [1700/2000], Loss:0.00045\n",
      "Epoch: [1800/2000], Loss:0.00042\n",
      "Epoch: [1900/2000], Loss:0.00102\n",
      "Epoch: [2000/2000], Loss:0.00033\n"
     ]
    }
   ],
   "source": [
    "for epoch in range(max_epochs):\n",
    "    output = lstm_model(train_x_tensor)\n",
    "    loss = criterion(output, train_y_tensor)\n",
    " \n",
    "    optimizer.zero_grad()\n",
    "    loss.backward()\n",
    "    optimizer.step()\n",
    " \n",
    "    if loss < prev_loss:\n",
    "        torch.save(lstm_model.state_dict(), f'lstm_model_{city}.pt')  # save model parameters to files\n",
    "        prev_loss = loss\n",
    " \n",
    "    if loss.item() < 1e-4:\n",
    "        print('Epoch [{}/{}], Loss: {:.5f}'.format(epoch + 1, max_epochs, loss.item()))\n",
    "        print(\"The loss value is reached\")\n",
    "        break\n",
    "    elif (epoch + 1) % 100 == 0:\n",
    "        print('Epoch: [{}/{}], Loss:{:.5f}'.format(epoch + 1, max_epochs, loss.item()))"
   ]
  },
  {
   "cell_type": "code",
   "execution_count": 18,
   "metadata": {},
   "outputs": [
    {
     "name": "stdout",
     "output_type": "stream",
     "text": [
      "test loss： 0.6892348527908325\n"
     ]
    }
   ],
   "source": [
    "# prediction on training dataset\n",
    "pred_y_for_train = lstm_model(train_x_tensor).to(device)\n",
    "pred_y_for_train = pred_y_for_train.cpu().view(-1, OUTPUT_FEATURES_NUM).data.numpy()\n",
    " \n",
    "# ----------------- test -------------------\n",
    "lstm_model = lstm_model.eval()  # switch to testing model\n",
    " \n",
    "# prediction on test dataset\n",
    "test_x_tensor = test_x.reshape(-1, 1,\n",
    "                                   INPUT_FEATURES_NUM)\n",
    "test_x_tensor = torch.from_numpy(test_x_tensor)  \n",
    "test_x_tensor = test_x_tensor.to(device)\n",
    " \n",
    "pred_y_for_test = lstm_model(test_x_tensor)\n",
    "pred_y_for_test = pred_y_for_test.cpu().view(-1, OUTPUT_FEATURES_NUM).data.numpy()\n",
    "\n",
    "loss = criterion(torch.from_numpy(pred_y_for_test), torch.from_numpy(test_y))\n",
    "print(\"test loss：\", loss.item())"
   ]
  },
  {
   "cell_type": "markdown",
   "metadata": {},
   "source": [
    "## Model Viz"
   ]
  },
  {
   "cell_type": "code",
   "execution_count": 19,
   "metadata": {},
   "outputs": [
    {
     "data": {
      "image/png": "[encoded data removed]",
      "text/plain": [
       "<Figure size 640x480 with 1 Axes>"
      ]
     },
     "metadata": {},
     "output_type": "display_data"
    }
   ],
   "source": [
    "# ----------------- plot -------------------\n",
    "plt.figure()\n",
    "plt.plot(range(len(train_y)), train_y, 'b', label='y_trn')\n",
    "plt.plot(range(len(train_y)), pred_y_for_train, 'y--', label='pre_trn')\n",
    " \n",
    "plt.plot(range(len(train_y),len(train_y)+len(test_y)), test_y, 'k', label='y_tst')\n",
    "plt.plot(range(len(train_y),len(train_y)+len(test_y)), pred_y_for_test, 'm--', label='pre_tst')\n",
    " \n",
    "plt.xlabel('t')\n",
    "plt.ylabel('Rate')\n",
    "plt.show()\n"
   ]
  },
  {
   "cell_type": "code",
   "execution_count": null,
   "metadata": {},
   "outputs": [],
   "source": []
  }
 ],
 "metadata": {
  "kernelspec": {
   "display_name": "Python 3.9.13 ('T')",
   "language": "python",
   "name": "python3"
  },
  "language_info": {
   "codemirror_mode": {
    "name": "ipython",
    "version": 3
   },
   "file_extension": ".py",
   "mimetype": "text/x-python",
   "name": "python",
   "nbconvert_exporter": "python",
   "pygments_lexer": "ipython3",
   "version": "3.9.13"
  },
  "orig_nbformat": 4,
  "vscode": {
   "interpreter": {
    "hash": "8ac8dd01d0567429a9d206b16aa67c3908dd3e41496d903f683612746eb8ea8d"
   }
  }
 },
 "nbformat": 4,
 "nbformat_minor": 2
}
