{
  "cells": [
    {
      "cell_type": "code",
      "execution_count": 1,
      "metadata": {
        "id": "IBPx4o84S3T-"
      },
      "outputs": [],
      "source": [
        "import numpy as np\n",
        "import pandas as pd\n",
        "import os\n",
        "import gc\n",
        "import warnings\n",
        "\n",
        "import statsmodels.api as sm\n",
        "\n",
        "import matplotlib\n",
        "import matplotlib.pyplot as plt\n",
        "import seaborn as sns\n",
        "import plotly.express as px\n",
        "\n",
        "import scipy.io as sio\n",
        "import torch\n",
        "from torch import nn\n",
        "from torch.autograd import Variable\n",
        "\n",
        "import math"
      ]
    },
    {
      "cell_type": "code",
      "execution_count": 2,
      "metadata": {
        "id": "XqyUU1h9Kw7g"
      },
      "outputs": [],
      "source": [
        "pd.set_option('display.max_columns', None)\n",
        "pd.options.display.float_format = '{:.2f}'.format\n",
        "warnings.filterwarnings('ignore')"
      ]
    },
    {
      "cell_type": "markdown",
      "metadata": {
        "id": "SaZoxmSC8rBQ"
      },
      "source": [
        "# **Dataset**"
      ]
    },
    {
      "cell_type": "code",
      "execution_count": 3,
      "metadata": {
        "colab": {
          "base_uri": "https://localhost:8080/",
          "height": 299
        },
        "id": "5LrmloRxUN_G",
        "outputId": "0cfb5ba6-49f6-40e5-a579-025011319427"
      },
      "outputs": [
        {
          "name": "stdout",
          "output_type": "stream",
          "text": [
            "local file not found; accessing Google Drive\n"
          ]
        },
        {
          "data": {
            "text/html": [
              "<div>\n",
              "<style scoped>\n",
              "    .dataframe tbody tr th:only-of-type {\n",
              "        vertical-align: middle;\n",
              "    }\n",
              "\n",
              "    .dataframe tbody tr th {\n",
              "        vertical-align: top;\n",
              "    }\n",
              "\n",
              "    .dataframe thead th {\n",
              "        text-align: right;\n",
              "    }\n",
              "</style>\n",
              "<table border=\"1\" class=\"dataframe\">\n",
              "  <thead>\n",
              "    <tr style=\"text-align: right;\">\n",
              "      <th></th>\n",
              "      <th>Area Type</th>\n",
              "      <th>Area Name</th>\n",
              "      <th>Date</th>\n",
              "      <th>Year</th>\n",
              "      <th>Month</th>\n",
              "      <th>Seasonally Adjusted (Y/N)</th>\n",
              "      <th>Status (Preliminary / Final)</th>\n",
              "      <th>Labor Force</th>\n",
              "      <th>Employment</th>\n",
              "      <th>Unemployment</th>\n",
              "      <th>Unemployment Rate</th>\n",
              "    </tr>\n",
              "  </thead>\n",
              "  <tbody>\n",
              "    <tr>\n",
              "      <th>0</th>\n",
              "      <td>State</td>\n",
              "      <td>California</td>\n",
              "      <td>01/01/1976</td>\n",
              "      <td>1976</td>\n",
              "      <td>January</td>\n",
              "      <td>N</td>\n",
              "      <td>Final</td>\n",
              "      <td>9672362</td>\n",
              "      <td>8668016</td>\n",
              "      <td>1004346</td>\n",
              "      <td>0.10</td>\n",
              "    </tr>\n",
              "    <tr>\n",
              "      <th>1</th>\n",
              "      <td>State</td>\n",
              "      <td>California</td>\n",
              "      <td>01/01/1976</td>\n",
              "      <td>1976</td>\n",
              "      <td>January</td>\n",
              "      <td>Y</td>\n",
              "      <td>Final</td>\n",
              "      <td>9774280</td>\n",
              "      <td>8875685</td>\n",
              "      <td>898595</td>\n",
              "      <td>0.09</td>\n",
              "    </tr>\n",
              "    <tr>\n",
              "      <th>2</th>\n",
              "      <td>County</td>\n",
              "      <td>Los Angeles County</td>\n",
              "      <td>01/01/1976</td>\n",
              "      <td>1976</td>\n",
              "      <td>January</td>\n",
              "      <td>N</td>\n",
              "      <td>Final</td>\n",
              "      <td>3364151</td>\n",
              "      <td>3040058</td>\n",
              "      <td>324093</td>\n",
              "      <td>0.10</td>\n",
              "    </tr>\n",
              "    <tr>\n",
              "      <th>3</th>\n",
              "      <td>County</td>\n",
              "      <td>Los Angeles County</td>\n",
              "      <td>01/01/1976</td>\n",
              "      <td>1976</td>\n",
              "      <td>January</td>\n",
              "      <td>Y</td>\n",
              "      <td>Final</td>\n",
              "      <td>3381856</td>\n",
              "      <td>3081806</td>\n",
              "      <td>300050</td>\n",
              "      <td>0.09</td>\n",
              "    </tr>\n",
              "    <tr>\n",
              "      <th>4</th>\n",
              "      <td>Metropolitan Area</td>\n",
              "      <td>Los Angeles-Long Beach-Glendale MD</td>\n",
              "      <td>01/01/1976</td>\n",
              "      <td>1976</td>\n",
              "      <td>January</td>\n",
              "      <td>N</td>\n",
              "      <td>Final</td>\n",
              "      <td>3364151</td>\n",
              "      <td>3040058</td>\n",
              "      <td>324093</td>\n",
              "      <td>0.10</td>\n",
              "    </tr>\n",
              "  </tbody>\n",
              "</table>\n",
              "</div>"
            ],
            "text/plain": [
              "          Area Type                           Area Name         Date  Year   \\\n",
              "0              State                          California  01/01/1976   1976   \n",
              "1              State                          California  01/01/1976   1976   \n",
              "2             County                  Los Angeles County  01/01/1976   1976   \n",
              "3             County                  Los Angeles County  01/01/1976   1976   \n",
              "4  Metropolitan Area  Los Angeles-Long Beach-Glendale MD  01/01/1976   1976   \n",
              "\n",
              "     Month Seasonally Adjusted (Y/N)  Status (Preliminary / Final)   \\\n",
              "0  January                          N                         Final   \n",
              "1  January                          Y                         Final   \n",
              "2  January                          N                         Final   \n",
              "3  January                          Y                         Final   \n",
              "4  January                          N                         Final   \n",
              "\n",
              "   Labor Force  Employment   Unemployment   Unemployment Rate   \n",
              "0      9672362      8668016        1004346                0.10  \n",
              "1      9774280      8875685         898595                0.09  \n",
              "2      3364151      3040058         324093                0.10  \n",
              "3      3381856      3081806         300050                0.09  \n",
              "4      3364151      3040058         324093                0.10  "
            ]
          },
          "execution_count": 3,
          "metadata": {},
          "output_type": "execute_result"
        }
      ],
      "source": [
        " def getfile(location_pair,**kwargs): #tries to get local version and then defaults to google drive version\n",
        "    (loc,gdrive)=location_pair\n",
        "    try:\n",
        "        out=pd.read_csv(loc,**kwargs)\n",
        "    except FileNotFoundError:\n",
        "        print(\"local file not found; accessing Google Drive\")\n",
        "        loc = 'https://drive.google.com/uc?export=download&id='+gdrive.split('/')[-2]\n",
        "        out = pd.read_csv(loc,**kwargs)\n",
        "    return out\n",
        "\n",
        "\n",
        "fname=(\"Local_Area_Unemployment_Statistics__LAUS_.csv\",\"https://drive.google.com/file/d/1xoDHEKiN-y4QyZNET8SdlVRSsgW_7TLy/view?usp=sharing\")\n",
        "data=getfile(fname)\n",
        "data.head()"
      ]
    },
    {
      "cell_type": "code",
      "execution_count": 4,
      "metadata": {
        "id": "Bh3wMOnhbzr1"
      },
      "outputs": [],
      "source": [
        "data['Date']= pd.to_datetime(data['Date'])\n",
        "data['ts'] = data.Date.values.astype(np.int64) # convert datetime to pandas timestamps\n",
        "data['Employment Rate']=data['Employment ']/data['Labor Force']"
      ]
    },
    {
      "cell_type": "markdown",
      "metadata": {
        "id": "QWI7wc5sYae2"
      },
      "source": [
        "## **Working dataset**"
      ]
    },
    {
      "cell_type": "code",
      "execution_count": 5,
      "metadata": {
        "id": "npKLMS7nUvmO"
      },
      "outputs": [],
      "source": [
        "data.to_pickle(\"./unemployment_working_data.pkl\")  "
      ]
    },
    {
      "cell_type": "code",
      "execution_count": 6,
      "metadata": {
        "colab": {
          "base_uri": "https://localhost:8080/",
          "height": 684
        },
        "id": "q71nA8GPXLoN",
        "outputId": "077aa77e-2059-466c-9ccd-859831992e81"
      },
      "outputs": [
        {
          "data": {
            "text/html": [
              "<div>\n",
              "<style scoped>\n",
              "    .dataframe tbody tr th:only-of-type {\n",
              "        vertical-align: middle;\n",
              "    }\n",
              "\n",
              "    .dataframe tbody tr th {\n",
              "        vertical-align: top;\n",
              "    }\n",
              "\n",
              "    .dataframe thead th {\n",
              "        text-align: right;\n",
              "    }\n",
              "</style>\n",
              "<table border=\"1\" class=\"dataframe\">\n",
              "  <thead>\n",
              "    <tr style=\"text-align: right;\">\n",
              "      <th></th>\n",
              "      <th>Area Type</th>\n",
              "      <th>Area Name</th>\n",
              "      <th>Date</th>\n",
              "      <th>Year</th>\n",
              "      <th>Month</th>\n",
              "      <th>Seasonally Adjusted (Y/N)</th>\n",
              "      <th>Status (Preliminary / Final)</th>\n",
              "      <th>Labor Force</th>\n",
              "      <th>Employment</th>\n",
              "      <th>Unemployment</th>\n",
              "      <th>Unemployment Rate</th>\n",
              "      <th>ts</th>\n",
              "      <th>Employment Rate</th>\n",
              "    </tr>\n",
              "  </thead>\n",
              "  <tbody>\n",
              "    <tr>\n",
              "      <th>0</th>\n",
              "      <td>State</td>\n",
              "      <td>California</td>\n",
              "      <td>1976-01-01</td>\n",
              "      <td>1976</td>\n",
              "      <td>January</td>\n",
              "      <td>N</td>\n",
              "      <td>Final</td>\n",
              "      <td>9672362</td>\n",
              "      <td>8668016</td>\n",
              "      <td>1004346</td>\n",
              "      <td>0.10</td>\n",
              "      <td>189302400000000000</td>\n",
              "      <td>0.90</td>\n",
              "    </tr>\n",
              "    <tr>\n",
              "      <th>1</th>\n",
              "      <td>State</td>\n",
              "      <td>California</td>\n",
              "      <td>1976-01-01</td>\n",
              "      <td>1976</td>\n",
              "      <td>January</td>\n",
              "      <td>Y</td>\n",
              "      <td>Final</td>\n",
              "      <td>9774280</td>\n",
              "      <td>8875685</td>\n",
              "      <td>898595</td>\n",
              "      <td>0.09</td>\n",
              "      <td>189302400000000000</td>\n",
              "      <td>0.91</td>\n",
              "    </tr>\n",
              "    <tr>\n",
              "      <th>2</th>\n",
              "      <td>County</td>\n",
              "      <td>Los Angeles County</td>\n",
              "      <td>1976-01-01</td>\n",
              "      <td>1976</td>\n",
              "      <td>January</td>\n",
              "      <td>N</td>\n",
              "      <td>Final</td>\n",
              "      <td>3364151</td>\n",
              "      <td>3040058</td>\n",
              "      <td>324093</td>\n",
              "      <td>0.10</td>\n",
              "      <td>189302400000000000</td>\n",
              "      <td>0.90</td>\n",
              "    </tr>\n",
              "    <tr>\n",
              "      <th>3</th>\n",
              "      <td>County</td>\n",
              "      <td>Los Angeles County</td>\n",
              "      <td>1976-01-01</td>\n",
              "      <td>1976</td>\n",
              "      <td>January</td>\n",
              "      <td>Y</td>\n",
              "      <td>Final</td>\n",
              "      <td>3381856</td>\n",
              "      <td>3081806</td>\n",
              "      <td>300050</td>\n",
              "      <td>0.09</td>\n",
              "      <td>189302400000000000</td>\n",
              "      <td>0.91</td>\n",
              "    </tr>\n",
              "    <tr>\n",
              "      <th>4</th>\n",
              "      <td>Metropolitan Area</td>\n",
              "      <td>Los Angeles-Long Beach-Glendale MD</td>\n",
              "      <td>1976-01-01</td>\n",
              "      <td>1976</td>\n",
              "      <td>January</td>\n",
              "      <td>N</td>\n",
              "      <td>Final</td>\n",
              "      <td>3364151</td>\n",
              "      <td>3040058</td>\n",
              "      <td>324093</td>\n",
              "      <td>0.10</td>\n",
              "      <td>189302400000000000</td>\n",
              "      <td>0.90</td>\n",
              "    </tr>\n",
              "    <tr>\n",
              "      <th>...</th>\n",
              "      <td>...</td>\n",
              "      <td>...</td>\n",
              "      <td>...</td>\n",
              "      <td>...</td>\n",
              "      <td>...</td>\n",
              "      <td>...</td>\n",
              "      <td>...</td>\n",
              "      <td>...</td>\n",
              "      <td>...</td>\n",
              "      <td>...</td>\n",
              "      <td>...</td>\n",
              "      <td>...</td>\n",
              "      <td>...</td>\n",
              "    </tr>\n",
              "    <tr>\n",
              "      <th>191122</th>\n",
              "      <td>MSA</td>\n",
              "      <td>Yuba City, CA MSA</td>\n",
              "      <td>2022-04-01</td>\n",
              "      <td>2022</td>\n",
              "      <td>April</td>\n",
              "      <td>Y</td>\n",
              "      <td>Final</td>\n",
              "      <td>76952</td>\n",
              "      <td>72469</td>\n",
              "      <td>4483</td>\n",
              "      <td>0.06</td>\n",
              "      <td>1648771200000000000</td>\n",
              "      <td>0.94</td>\n",
              "    </tr>\n",
              "    <tr>\n",
              "      <th>191123</th>\n",
              "      <td>MSA</td>\n",
              "      <td>Yuba City, CA MSA</td>\n",
              "      <td>2022-05-01</td>\n",
              "      <td>2022</td>\n",
              "      <td>May</td>\n",
              "      <td>Y</td>\n",
              "      <td>Final</td>\n",
              "      <td>76982</td>\n",
              "      <td>72704</td>\n",
              "      <td>4278</td>\n",
              "      <td>0.06</td>\n",
              "      <td>1651363200000000000</td>\n",
              "      <td>0.94</td>\n",
              "    </tr>\n",
              "    <tr>\n",
              "      <th>191124</th>\n",
              "      <td>MSA</td>\n",
              "      <td>Yuba City, CA MSA</td>\n",
              "      <td>2022-06-01</td>\n",
              "      <td>2022</td>\n",
              "      <td>June</td>\n",
              "      <td>Y</td>\n",
              "      <td>Final</td>\n",
              "      <td>76953</td>\n",
              "      <td>72757</td>\n",
              "      <td>4196</td>\n",
              "      <td>0.06</td>\n",
              "      <td>1654041600000000000</td>\n",
              "      <td>0.95</td>\n",
              "    </tr>\n",
              "    <tr>\n",
              "      <th>191125</th>\n",
              "      <td>MSA</td>\n",
              "      <td>Yuba City, CA MSA</td>\n",
              "      <td>2022-07-01</td>\n",
              "      <td>2022</td>\n",
              "      <td>July</td>\n",
              "      <td>Y</td>\n",
              "      <td>Final</td>\n",
              "      <td>76873</td>\n",
              "      <td>72681</td>\n",
              "      <td>4192</td>\n",
              "      <td>0.06</td>\n",
              "      <td>1656633600000000000</td>\n",
              "      <td>0.95</td>\n",
              "    </tr>\n",
              "    <tr>\n",
              "      <th>191126</th>\n",
              "      <td>MSA</td>\n",
              "      <td>Yuba City, CA MSA</td>\n",
              "      <td>2022-08-01</td>\n",
              "      <td>2022</td>\n",
              "      <td>August</td>\n",
              "      <td>Y</td>\n",
              "      <td>Prelim</td>\n",
              "      <td>76920</td>\n",
              "      <td>72509</td>\n",
              "      <td>4411</td>\n",
              "      <td>0.06</td>\n",
              "      <td>1659312000000000000</td>\n",
              "      <td>0.94</td>\n",
              "    </tr>\n",
              "  </tbody>\n",
              "</table>\n",
              "<p>191127 rows × 13 columns</p>\n",
              "</div>"
            ],
            "text/plain": [
              "               Area Type                           Area Name        Date  \\\n",
              "0                   State                          California 1976-01-01   \n",
              "1                   State                          California 1976-01-01   \n",
              "2                  County                  Los Angeles County 1976-01-01   \n",
              "3                  County                  Los Angeles County 1976-01-01   \n",
              "4       Metropolitan Area  Los Angeles-Long Beach-Glendale MD 1976-01-01   \n",
              "...                   ...                                 ...        ...   \n",
              "191122                MSA                   Yuba City, CA MSA 2022-04-01   \n",
              "191123                MSA                   Yuba City, CA MSA 2022-05-01   \n",
              "191124                MSA                   Yuba City, CA MSA 2022-06-01   \n",
              "191125                MSA                   Yuba City, CA MSA 2022-07-01   \n",
              "191126                MSA                   Yuba City, CA MSA 2022-08-01   \n",
              "\n",
              "        Year     Month Seasonally Adjusted (Y/N)   \\\n",
              "0        1976  January                          N   \n",
              "1        1976  January                          Y   \n",
              "2        1976  January                          N   \n",
              "3        1976  January                          Y   \n",
              "4        1976  January                          N   \n",
              "...       ...      ...                        ...   \n",
              "191122   2022    April                          Y   \n",
              "191123   2022      May                          Y   \n",
              "191124   2022     June                          Y   \n",
              "191125   2022     July                          Y   \n",
              "191126   2022   August                          Y   \n",
              "\n",
              "       Status (Preliminary / Final)   Labor Force  Employment   Unemployment   \\\n",
              "0                              Final      9672362      8668016        1004346   \n",
              "1                              Final      9774280      8875685         898595   \n",
              "2                              Final      3364151      3040058         324093   \n",
              "3                              Final      3381856      3081806         300050   \n",
              "4                              Final      3364151      3040058         324093   \n",
              "...                              ...          ...          ...            ...   \n",
              "191122                         Final        76952        72469           4483   \n",
              "191123                         Final        76982        72704           4278   \n",
              "191124                         Final        76953        72757           4196   \n",
              "191125                         Final        76873        72681           4192   \n",
              "191126                        Prelim        76920        72509           4411   \n",
              "\n",
              "        Unemployment Rate                    ts  Employment Rate  \n",
              "0                     0.10   189302400000000000             0.90  \n",
              "1                     0.09   189302400000000000             0.91  \n",
              "2                     0.10   189302400000000000             0.90  \n",
              "3                     0.09   189302400000000000             0.91  \n",
              "4                     0.10   189302400000000000             0.90  \n",
              "...                    ...                  ...              ...  \n",
              "191122                0.06  1648771200000000000             0.94  \n",
              "191123                0.06  1651363200000000000             0.94  \n",
              "191124                0.06  1654041600000000000             0.95  \n",
              "191125                0.06  1656633600000000000             0.95  \n",
              "191126                0.06  1659312000000000000             0.94  \n",
              "\n",
              "[191127 rows x 13 columns]"
            ]
          },
          "execution_count": 6,
          "metadata": {},
          "output_type": "execute_result"
        }
      ],
      "source": [
        "pd.read_pickle(\"./unemployment_working_data.pkl\") "
      ]
    },
    {
      "cell_type": "markdown",
      "metadata": {
        "id": "yjr2La8rYf8C"
      },
      "source": [
        "## **Debug dataset**"
      ]
    },
    {
      "cell_type": "code",
      "execution_count": 7,
      "metadata": {
        "id": "ZDI8J4ZCXS8y"
      },
      "outputs": [],
      "source": [
        "df_debug = data.sample(n=2000)"
      ]
    },
    {
      "cell_type": "code",
      "execution_count": 8,
      "metadata": {
        "id": "Yy1YsLgIXxNl"
      },
      "outputs": [],
      "source": [
        "df_debug.to_pickle(\"./unemployment_debug_data.pkl\") "
      ]
    },
    {
      "cell_type": "markdown",
      "metadata": {
        "id": "rqmqjH3-jTnY"
      },
      "source": [
        "# **Visulization and Descriptive Statistics**"
      ]
    },
    {
      "cell_type": "markdown",
      "metadata": {
        "id": "3_quNpVd4Pwr"
      },
      "source": [
        "1. Our group aim to use data to predict California's employment rate over the next decade. So the first step, we want to see the Employment and unemployment change in California over 45 years. \n",
        "\n",
        "From the plot, we could see that the unemployment number remained almost constant, but the employment number kept rising. \n",
        "\n",
        "Both the Unemployment rate and employment rate rise and fall cyclically and become more severe."
      ]
    },
    {
      "cell_type": "code",
      "execution_count": 9,
      "metadata": {
        "colab": {
          "base_uri": "https://localhost:8080/",
          "height": 317
        },
        "id": "9T2VHNauYdgy",
        "outputId": "abf9ed90-350b-4796-dbab-649b5a8e23a8"
      },
      "outputs": [
        {
          "data": {
            "text/plain": [
              "<AxesSubplot: title={'center': 'California Employment vs. Unemployment Number Over 45 Years\\n'}, xlabel='Year', ylabel='Count'>"
            ]
          },
          "execution_count": 9,
          "metadata": {},
          "output_type": "execute_result"
        },
        {
          "data": {
            "image/png": "[encoded data removed]",
            "text/plain": [
              "<Figure size 640x480 with 1 Axes>"
            ]
          },
          "metadata": {},
          "output_type": "display_data"
        }
      ],
      "source": [
        "#data['Employment Rate']=data['Employment']/data['Labor Force']\n",
        "data.columns = ['Area Type', 'Area Name', 'Date', 'Year', 'Month',\n",
        "       'Seasonally Adjusted (Y/N)', 'Status (Preliminary / Final)',\n",
        "       'Labor Force', 'Employment', 'Unemployment', 'Unemployment Rate','ts','Employment Rate']\n",
        "subData_County = data.loc[(data['Area Type']=='County')]\n",
        "subData_State = data.loc[(data['Area Type']=='State')]\n",
        "\n",
        "Pre = subData_State[['Date', 'Employment','Unemployment']]\n",
        "Pre.set_index([\"Date\"], inplace=True)\n",
        "Pre.plot(title=\"California Employment vs. Unemployment Number Over 45 Years\\n\", ylabel=\"Count\", xlabel=\"Year\")"
      ]
    },
    {
      "cell_type": "code",
      "execution_count": 10,
      "metadata": {
        "colab": {
          "base_uri": "https://localhost:8080/",
          "height": 600
        },
        "id": "JwAdU1UOze8D",
        "outputId": "8e64b180-8bf5-4882-81ba-f3e2f2504ab2"
      },
      "outputs": [
        {
          "data": {
            "text/plain": [
              "<AxesSubplot: title={'center': 'California Employment Rate Over 45 Years\\n'}, xlabel='Year', ylabel='rate'>"
            ]
          },
          "execution_count": 10,
          "metadata": {},
          "output_type": "execute_result"
        },
        {
          "data": {
            "image/png": "[encoded data removed]",
            "text/plain": [
              "<Figure size 640x480 with 1 Axes>"
            ]
          },
          "metadata": {},
          "output_type": "display_data"
        },
        {
          "data": {
            "image/png": "[encoded data removed]",
            "text/plain": [
              "<Figure size 640x480 with 1 Axes>"
            ]
          },
          "metadata": {},
          "output_type": "display_data"
        }
      ],
      "source": [
        "Pre1 = subData_State[['Date','Unemployment Rate']]\n",
        "Pre1.set_index([\"Date\"], inplace=True)\n",
        "Pre1.plot(title=\"California Unemployment Rate Over 45 Years\\n\", ylabel=\"rate\", xlabel=\"Year\")\n",
        "Pre2 = subData_State[['Date','Employment Rate']]\n",
        "Pre2.set_index([\"Date\"], inplace=True)\n",
        "Pre2.plot(title=\"California Employment Rate Over 45 Years\\n\", ylabel=\"rate\", xlabel=\"Year\", color = 'orange')"
      ]
    },
    {
      "cell_type": "markdown",
      "metadata": {
        "id": "LLXSenN35UHt"
      },
      "source": [
        "2. The average unemplyment rates and emplyment rates of California Counties in the last 45 years."
      ]
    },
    {
      "cell_type": "code",
      "execution_count": 11,
      "metadata": {
        "colab": {
          "background_save": true
        },
        "id": "wqBDc_fPLej5",
        "outputId": "019ae035-e4d6-4a21-d37a-3c54de8ba197"
      },
      "outputs": [
        {
          "ename": "TypeError",
          "evalue": "Vertical orientation requires numeric `y` variable.",
          "output_type": "error",
          "traceback": [
            "\u001b[0;31m---------------------------------------------------------------------------\u001b[0m",
            "\u001b[0;31mTypeError\u001b[0m                                 Traceback (most recent call last)",
            "Cell \u001b[0;32mIn [11], line 2\u001b[0m\n\u001b[1;32m      1\u001b[0m ax\u001b[39m=\u001b[39mplt\u001b[39m.\u001b[39mfigure(figsize\u001b[39m=\u001b[39m(\u001b[39m10\u001b[39m,\u001b[39m22\u001b[39m))\n\u001b[0;32m----> 2\u001b[0m ax \u001b[39m=\u001b[39m sns\u001b[39m.\u001b[39;49mbarplot(subData_County[\u001b[39m\"\u001b[39;49m\u001b[39mUnemployment Rate\u001b[39;49m\u001b[39m\"\u001b[39;49m],                 \n\u001b[1;32m      3\u001b[0m                  y\u001b[39m=\u001b[39;49msubData_County[\u001b[39m\"\u001b[39;49m\u001b[39mArea Name\u001b[39;49m\u001b[39m\"\u001b[39;49m],color\u001b[39m=\u001b[39;49m\u001b[39m\"\u001b[39;49m\u001b[39my\u001b[39;49m\u001b[39m\"\u001b[39;49m)\n\u001b[1;32m      4\u001b[0m ax\u001b[39m.\u001b[39mset_title(\u001b[39m'\u001b[39m\u001b[39mAvg. Unemployment rates of California Counties in last 45 years\u001b[39m\u001b[39m'\u001b[39m)\n\u001b[1;32m      5\u001b[0m ax\u001b[39m.\u001b[39mset(xlabel\u001b[39m=\u001b[39m\u001b[39m'\u001b[39m\u001b[39mUnemployment Rate\u001b[39m\u001b[39m'\u001b[39m, ylabel\u001b[39m=\u001b[39m\u001b[39m'\u001b[39m\u001b[39mCounty\u001b[39m\u001b[39m'\u001b[39m)\n",
            "File \u001b[0;32m/opt/homebrew/Caskroom/miniforge/base/envs/t/lib/python3.10/site-packages/seaborn/categorical.py:2754\u001b[0m, in \u001b[0;36mbarplot\u001b[0;34m(data, x, y, hue, order, hue_order, estimator, errorbar, n_boot, units, seed, orient, color, palette, saturation, width, errcolor, errwidth, capsize, dodge, ci, ax, **kwargs)\u001b[0m\n\u001b[1;32m   2751\u001b[0m \u001b[39mif\u001b[39;00m estimator \u001b[39mis\u001b[39;00m \u001b[39mlen\u001b[39m:\n\u001b[1;32m   2752\u001b[0m     estimator \u001b[39m=\u001b[39m \u001b[39m\"\u001b[39m\u001b[39msize\u001b[39m\u001b[39m\"\u001b[39m\n\u001b[0;32m-> 2754\u001b[0m plotter \u001b[39m=\u001b[39m _BarPlotter(x, y, hue, data, order, hue_order,\n\u001b[1;32m   2755\u001b[0m                       estimator, errorbar, n_boot, units, seed,\n\u001b[1;32m   2756\u001b[0m                       orient, color, palette, saturation,\n\u001b[1;32m   2757\u001b[0m                       width, errcolor, errwidth, capsize, dodge)\n\u001b[1;32m   2759\u001b[0m \u001b[39mif\u001b[39;00m ax \u001b[39mis\u001b[39;00m \u001b[39mNone\u001b[39;00m:\n\u001b[1;32m   2760\u001b[0m     ax \u001b[39m=\u001b[39m plt\u001b[39m.\u001b[39mgca()\n",
            "File \u001b[0;32m/opt/homebrew/Caskroom/miniforge/base/envs/t/lib/python3.10/site-packages/seaborn/categorical.py:1530\u001b[0m, in \u001b[0;36m_BarPlotter.__init__\u001b[0;34m(self, x, y, hue, data, order, hue_order, estimator, errorbar, n_boot, units, seed, orient, color, palette, saturation, width, errcolor, errwidth, capsize, dodge)\u001b[0m\n\u001b[1;32m   1525\u001b[0m \u001b[39mdef\u001b[39;00m \u001b[39m__init__\u001b[39m(\u001b[39mself\u001b[39m, x, y, hue, data, order, hue_order,\n\u001b[1;32m   1526\u001b[0m              estimator, errorbar, n_boot, units, seed,\n\u001b[1;32m   1527\u001b[0m              orient, color, palette, saturation, width,\n\u001b[1;32m   1528\u001b[0m              errcolor, errwidth, capsize, dodge):\n\u001b[1;32m   1529\u001b[0m     \u001b[39m\"\"\"Initialize the plotter.\"\"\"\u001b[39;00m\n\u001b[0;32m-> 1530\u001b[0m     \u001b[39mself\u001b[39;49m\u001b[39m.\u001b[39;49mestablish_variables(x, y, hue, data, orient,\n\u001b[1;32m   1531\u001b[0m                              order, hue_order, units)\n\u001b[1;32m   1532\u001b[0m     \u001b[39mself\u001b[39m\u001b[39m.\u001b[39mestablish_colors(color, palette, saturation)\n\u001b[1;32m   1533\u001b[0m     \u001b[39mself\u001b[39m\u001b[39m.\u001b[39mestimate_statistic(estimator, errorbar, n_boot, seed)\n",
            "File \u001b[0;32m/opt/homebrew/Caskroom/miniforge/base/envs/t/lib/python3.10/site-packages/seaborn/categorical.py:544\u001b[0m, in \u001b[0;36m_CategoricalPlotter.establish_variables\u001b[0;34m(self, x, y, hue, data, orient, order, hue_order, units)\u001b[0m\n\u001b[1;32m    541\u001b[0m         \u001b[39mraise\u001b[39;00m \u001b[39mValueError\u001b[39;00m(err)\n\u001b[1;32m    543\u001b[0m \u001b[39m# Figure out the plotting orientation\u001b[39;00m\n\u001b[0;32m--> 544\u001b[0m orient \u001b[39m=\u001b[39m infer_orient(\n\u001b[1;32m    545\u001b[0m     x, y, orient, require_numeric\u001b[39m=\u001b[39;49m\u001b[39mself\u001b[39;49m\u001b[39m.\u001b[39;49mrequire_numeric\n\u001b[1;32m    546\u001b[0m )\n\u001b[1;32m    548\u001b[0m \u001b[39m# Option 2a:\u001b[39;00m\n\u001b[1;32m    549\u001b[0m \u001b[39m# We are plotting a single set of data\u001b[39;00m\n\u001b[1;32m    550\u001b[0m \u001b[39m# ------------------------------------\u001b[39;00m\n\u001b[1;32m    551\u001b[0m \u001b[39mif\u001b[39;00m x \u001b[39mis\u001b[39;00m \u001b[39mNone\u001b[39;00m \u001b[39mor\u001b[39;00m y \u001b[39mis\u001b[39;00m \u001b[39mNone\u001b[39;00m:\n\u001b[1;32m    552\u001b[0m \n\u001b[1;32m    553\u001b[0m     \u001b[39m# Determine where the data are\u001b[39;00m\n",
            "File \u001b[0;32m/opt/homebrew/Caskroom/miniforge/base/envs/t/lib/python3.10/site-packages/seaborn/_oldcore.py:1594\u001b[0m, in \u001b[0;36minfer_orient\u001b[0;34m(x, y, orient, require_numeric)\u001b[0m\n\u001b[1;32m   1592\u001b[0m         warnings\u001b[39m.\u001b[39mwarn(single_var_warning\u001b[39m.\u001b[39mformat(\u001b[39m\"\u001b[39m\u001b[39mHorizontal\u001b[39m\u001b[39m\"\u001b[39m, \u001b[39m\"\u001b[39m\u001b[39my\u001b[39m\u001b[39m\"\u001b[39m))\n\u001b[1;32m   1593\u001b[0m     \u001b[39mif\u001b[39;00m require_numeric \u001b[39mand\u001b[39;00m y_type \u001b[39m!=\u001b[39m \u001b[39m\"\u001b[39m\u001b[39mnumeric\u001b[39m\u001b[39m\"\u001b[39m:\n\u001b[0;32m-> 1594\u001b[0m         \u001b[39mraise\u001b[39;00m \u001b[39mTypeError\u001b[39;00m(nonnumeric_dv_error\u001b[39m.\u001b[39mformat(\u001b[39m\"\u001b[39m\u001b[39mVertical\u001b[39m\u001b[39m\"\u001b[39m, \u001b[39m\"\u001b[39m\u001b[39my\u001b[39m\u001b[39m\"\u001b[39m))\n\u001b[1;32m   1595\u001b[0m     \u001b[39mreturn\u001b[39;00m \u001b[39m\"\u001b[39m\u001b[39mv\u001b[39m\u001b[39m\"\u001b[39m\n\u001b[1;32m   1597\u001b[0m \u001b[39melif\u001b[39;00m y \u001b[39mis\u001b[39;00m \u001b[39mNone\u001b[39;00m:\n",
            "\u001b[0;31mTypeError\u001b[0m: Vertical orientation requires numeric `y` variable."
          ]
        },
        {
          "data": {
            "text/plain": [
              "<Figure size 1000x2200 with 0 Axes>"
            ]
          },
          "metadata": {},
          "output_type": "display_data"
        }
      ],
      "source": [
        "ax=plt.figure(figsize=(10,22))\n",
        "ax = sns.barplot(subData_County[\"Unemployment Rate\"],                 \n",
        "                 y=subData_County[\"Area Name\"],color=\"y\")\n",
        "ax.set_title('Avg. Unemployment rates of California Counties in last 45 years')\n",
        "ax.set(xlabel='Unemployment Rate', ylabel='County')\n",
        "\n",
        "ax2=plt.figure(figsize=(10,22))\n",
        "ax2 = sns.barplot(subData_County[\"Employment Rate\"],                 \n",
        "                 y=subData_County[\"Area Name\"])\n",
        "ax2.set_title('Avg. Employment rates of California Counties in last 45 years')\n",
        "ax2.set(xlabel='Employment Rate', ylabel='County')"
      ]
    },
    {
      "cell_type": "markdown",
      "metadata": {
        "id": "9pKpX7GhywhE"
      },
      "source": [
        " 3. show average unemployment and statistics in different categories."
      ]
    },
    {
      "cell_type": "code",
      "execution_count": null,
      "metadata": {
        "colab": {
          "background_save": true
        },
        "id": "d2mLVC6PyyFs"
      },
      "outputs": [],
      "source": [
        "def plt_show(X_name, Y_name, dic, Z_name):\n",
        "  \n",
        "  XY = data[[X_name,Y_name]]\n",
        "  X = dic.values()\n",
        "  Y = []\n",
        "  num = []\n",
        "  for i in range(len(X)):\n",
        "    Y_cat = XY[XY[X_name] == dic[i]][Y_name]\n",
        "    Y.append(Y_cat.mean())\n",
        "    num.append(len(Y_cat))\n",
        "   #print(str(len(Y_cat)) + ' cases with '+ X_name + ' taking value ' + dic[i])\n",
        "\n",
        "  plt.pie(num, labels = X, autopct='%1.1f%%')\n",
        "  title1 = 'Cases in different ' + X_name\n",
        "  plt.title(title1)\n",
        "  plt.show()\n",
        "\n",
        "  title2 = 'Average ' + Y_name + ' in different ' + X_name\n",
        "  plt.bar(X,Y)\n",
        "  plt.axhline(XY[Y_name].mean(), label = 'Mean of '+ Y_name, ls = ':')\n",
        "  plt.legend(loc = 'best')\n",
        "  plt.xlabel(X_name)\n",
        "  plt.ylabel('Average ' + Y_name)\n",
        "  plt.title(title2)\n",
        "  plt.show()\n",
        "\n",
        "  XZ = data[[X_name,Z_name]]\n",
        "  X = dic.values()\n",
        "  Z = []\n",
        "  num = []\n",
        "  for i in range(len(X)):\n",
        "    Z_cat = XZ[XZ[X_name] == dic[i]][Z_name]\n",
        "    Z.append(Z_cat.mean())\n",
        "    num.append(len(Z_cat))\n",
        "\n",
        "  title3 = 'Average ' + Z_name + ' in different ' + X_name\n",
        "  plt.bar(X,Z,color='orange')\n",
        "  plt.axhline(XZ[Z_name].mean(), label = 'Mean of '+ Z_name, ls = ':')\n",
        "  plt.legend(loc = 'best')\n",
        "  plt.xlabel(X_name)\n",
        "  plt.ylabel('Average ' + Z_name)\n",
        "  plt.title(title3)\n",
        "  plt.show()"
      ]
    },
    {
      "cell_type": "markdown",
      "metadata": {
        "id": "UnQQ0NMoskee"
      },
      "source": [
        "**Area Type**"
      ]
    },
    {
      "cell_type": "code",
      "execution_count": null,
      "metadata": {
        "colab": {
          "background_save": true
        },
        "id": "HqRrYjnrqeal",
        "outputId": "366e0f28-6825-44ad-f867-c6a6dde3bbf3"
      },
      "outputs": [
        {
          "data": {
            "image/png": "[encoded data removed]",
            "text/plain": [
              "<Figure size 432x288 with 1 Axes>"
            ]
          },
          "metadata": {},
          "output_type": "display_data"
        },
        {
          "data": {
            "image/png": "[encoded data removed]",
            "text/plain": [
              "<Figure size 432x288 with 1 Axes>"
            ]
          },
          "metadata": {},
          "output_type": "display_data"
        },
        {
          "data": {
            "image/png": "[encoded data removed]",
            "text/plain": [
              "<Figure size 432x288 with 1 Axes>"
            ]
          },
          "metadata": {},
          "output_type": "display_data"
        }
      ],
      "source": [
        "X_name = 'Area Type'\n",
        "Y_name = 'Unemployment Rate'\n",
        "Z_name = 'Employment Rate'\n",
        "dic = {0:'County', 1:'MSA', 2:'Metro Division', 3:'Metropolitan Area', 4:'State', 5:'Sub-County Place'}\n",
        "plt_show(X_name, Y_name, dic, Z_name)"
      ]
    },
    {
      "cell_type": "markdown",
      "metadata": {
        "id": "bpNNs325uMzc"
      },
      "source": [
        "**Month**"
      ]
    },
    {
      "cell_type": "code",
      "execution_count": null,
      "metadata": {
        "colab": {
          "background_save": true
        },
        "id": "BTwOIOH2uMdw",
        "outputId": "efb2415f-e2ba-491c-c8a0-3586610d2c49"
      },
      "outputs": [
        {
          "data": {
            "image/png": "[encoded data removed]",
            "text/plain": [
              "<Figure size 432x288 with 1 Axes>"
            ]
          },
          "metadata": {},
          "output_type": "display_data"
        },
        {
          "data": {
            "image/png": "[encoded data removed]",
            "text/plain": [
              "<Figure size 432x288 with 1 Axes>"
            ]
          },
          "metadata": {},
          "output_type": "display_data"
        },
        {
          "data": {
            "image/png": "[encoded data removed]",
            "text/plain": [
              "<Figure size 432x288 with 1 Axes>"
            ]
          },
          "metadata": {},
          "output_type": "display_data"
        }
      ],
      "source": [
        "X_name = 'Month'\n",
        "Y_name = 'Unemployment Rate'\n",
        "Z_name = 'Employment Rate'\n",
        "dic = {0:'January', 1:'February', 2:'March', 3:'April', 4:'May', 5:'June', 6:'July', 7:'August', \n",
        "       8:'September', 9:'October', 10:'November', 11:'December'}\n",
        "plt_show(X_name, Y_name, dic, Z_name)"
      ]
    },
    {
      "cell_type": "markdown",
      "metadata": {
        "id": "5KKCfDFozrrg"
      },
      "source": [
        "**Seasonally Adjusted (Y/N)**"
      ]
    },
    {
      "cell_type": "code",
      "execution_count": null,
      "metadata": {
        "colab": {
          "background_save": true
        },
        "id": "CY3vF4muzqNO",
        "outputId": "e465ee60-01bf-4fc2-b8da-de9391238d02"
      },
      "outputs": [
        {
          "data": {
            "image/png": "[encoded data removed]",
            "text/plain": [
              "<Figure size 432x288 with 1 Axes>"
            ]
          },
          "metadata": {},
          "output_type": "display_data"
        },
        {
          "data": {
            "image/png": "[encoded data removed]",
            "text/plain": [
              "<Figure size 432x288 with 1 Axes>"
            ]
          },
          "metadata": {},
          "output_type": "display_data"
        },
        {
          "data": {
            "image/png": "[encoded data removed]",
            "text/plain": [
              "<Figure size 432x288 with 1 Axes>"
            ]
          },
          "metadata": {},
          "output_type": "display_data"
        }
      ],
      "source": [
        "X_name = 'Seasonally Adjusted (Y/N)'\n",
        "Y_name = 'Unemployment Rate'\n",
        "Z_name = 'Employment Rate'\n",
        "dic = {0:'N', 1:'Y'}\n",
        "plt_show(X_name, Y_name, dic, Z_name)"
      ]
    },
    {
      "cell_type": "markdown",
      "metadata": {
        "id": "nAUvzl9w560E"
      },
      "source": [
        "**Status (Preliminary / Final)**"
      ]
    },
    {
      "cell_type": "code",
      "execution_count": null,
      "metadata": {
        "colab": {
          "background_save": true
        },
        "id": "RZR9z6bD6Ady",
        "outputId": "305a9e9a-5fa9-46d7-853d-a890c965589f"
      },
      "outputs": [
        {
          "data": {
            "image/png": "[encoded data removed]",
            "text/plain": [
              "<Figure size 432x288 with 1 Axes>"
            ]
          },
          "metadata": {},
          "output_type": "display_data"
        },
        {
          "data": {
            "image/png": "[encoded data removed]",
            "text/plain": [
              "<Figure size 432x288 with 1 Axes>"
            ]
          },
          "metadata": {},
          "output_type": "display_data"
        },
        {
          "data": {
            "image/png": "[encoded data removed]",
            "text/plain": [
              "<Figure size 432x288 with 1 Axes>"
            ]
          },
          "metadata": {},
          "output_type": "display_data"
        }
      ],
      "source": [
        "X_name = 'Status (Preliminary / Final)'\n",
        "Y_name = 'Unemployment Rate'\n",
        "Z_name = 'Employment Rate'\n",
        "dic = {0:'Preliminary', 1:'Final'}\n",
        "plt_show(X_name, Y_name, dic, Z_name)"
      ]
    },
    {
      "cell_type": "markdown",
      "metadata": {
        "id": "LvgGl60pAIyl"
      },
      "source": [
        "\n",
        "\n",
        "From the plots above, compared to the unemployment rate, the employment rate nearly changes in categories such as Month and Seasonally adjusted and changes slightly in categories such as area type and status (Preliminary / Final). \n",
        "\n",
        "The reason is that the change in the employment rate is small relative to the employment rate itself so we are going to **predict unemployment rate** instead of employment. Their relation is: employment rate + unemployment rate = 1."
      ]
    },
    {
      "cell_type": "markdown",
      "metadata": {
        "id": "efnxHZeeBmE7"
      },
      "source": [
        "# Linear regression benchmark\n"
      ]
    },
    {
      "cell_type": "code",
      "execution_count": null,
      "metadata": {
        "colab": {
          "background_save": true
        },
        "id": "jBmIozYsjaxs",
        "outputId": "be4a112f-5172-4668-98a0-b02d1686b3d5"
      },
      "outputs": [
        {
          "data": {
            "text/html": [
              "\n",
              "  <div id=\"df-3b414cab-19d6-451a-b7a9-196ead55cf98\">\n",
              "    <div class=\"colab-df-container\">\n",
              "      <div>\n",
              "<style scoped>\n",
              "    .dataframe tbody tr th:only-of-type {\n",
              "        vertical-align: middle;\n",
              "    }\n",
              "\n",
              "    .dataframe tbody tr th {\n",
              "        vertical-align: top;\n",
              "    }\n",
              "\n",
              "    .dataframe thead th {\n",
              "        text-align: right;\n",
              "    }\n",
              "</style>\n",
              "<table border=\"1\" class=\"dataframe\">\n",
              "  <thead>\n",
              "    <tr style=\"text-align: right;\">\n",
              "      <th></th>\n",
              "      <th>Area Type</th>\n",
              "      <th>Area Name</th>\n",
              "      <th>Date</th>\n",
              "      <th>Year</th>\n",
              "      <th>Month</th>\n",
              "      <th>Seasonally Adjusted (Y/N)</th>\n",
              "      <th>Status (Preliminary / Final)</th>\n",
              "      <th>Labor Force</th>\n",
              "      <th>Employment</th>\n",
              "      <th>Unemployment</th>\n",
              "      <th>Unemployment Rate</th>\n",
              "      <th>ts</th>\n",
              "      <th>Employment Rate</th>\n",
              "    </tr>\n",
              "  </thead>\n",
              "  <tbody>\n",
              "    <tr>\n",
              "      <th>0</th>\n",
              "      <td>State</td>\n",
              "      <td>California</td>\n",
              "      <td>1976-01-01</td>\n",
              "      <td>1976</td>\n",
              "      <td>January</td>\n",
              "      <td>N</td>\n",
              "      <td>Final</td>\n",
              "      <td>9672362</td>\n",
              "      <td>8668016</td>\n",
              "      <td>1004346</td>\n",
              "      <td>0.10</td>\n",
              "      <td>189302400000000000</td>\n",
              "      <td>0.90</td>\n",
              "    </tr>\n",
              "    <tr>\n",
              "      <th>1</th>\n",
              "      <td>State</td>\n",
              "      <td>California</td>\n",
              "      <td>1976-01-01</td>\n",
              "      <td>1976</td>\n",
              "      <td>January</td>\n",
              "      <td>Y</td>\n",
              "      <td>Final</td>\n",
              "      <td>9774280</td>\n",
              "      <td>8875685</td>\n",
              "      <td>898595</td>\n",
              "      <td>0.09</td>\n",
              "      <td>189302400000000000</td>\n",
              "      <td>0.91</td>\n",
              "    </tr>\n",
              "    <tr>\n",
              "      <th>2</th>\n",
              "      <td>County</td>\n",
              "      <td>Los Angeles County</td>\n",
              "      <td>1976-01-01</td>\n",
              "      <td>1976</td>\n",
              "      <td>January</td>\n",
              "      <td>N</td>\n",
              "      <td>Final</td>\n",
              "      <td>3364151</td>\n",
              "      <td>3040058</td>\n",
              "      <td>324093</td>\n",
              "      <td>0.10</td>\n",
              "      <td>189302400000000000</td>\n",
              "      <td>0.90</td>\n",
              "    </tr>\n",
              "    <tr>\n",
              "      <th>3</th>\n",
              "      <td>County</td>\n",
              "      <td>Los Angeles County</td>\n",
              "      <td>1976-01-01</td>\n",
              "      <td>1976</td>\n",
              "      <td>January</td>\n",
              "      <td>Y</td>\n",
              "      <td>Final</td>\n",
              "      <td>3381856</td>\n",
              "      <td>3081806</td>\n",
              "      <td>300050</td>\n",
              "      <td>0.09</td>\n",
              "      <td>189302400000000000</td>\n",
              "      <td>0.91</td>\n",
              "    </tr>\n",
              "    <tr>\n",
              "      <th>4</th>\n",
              "      <td>Metropolitan Area</td>\n",
              "      <td>Los Angeles-Long Beach-Glendale MD</td>\n",
              "      <td>1976-01-01</td>\n",
              "      <td>1976</td>\n",
              "      <td>January</td>\n",
              "      <td>N</td>\n",
              "      <td>Final</td>\n",
              "      <td>3364151</td>\n",
              "      <td>3040058</td>\n",
              "      <td>324093</td>\n",
              "      <td>0.10</td>\n",
              "      <td>189302400000000000</td>\n",
              "      <td>0.90</td>\n",
              "    </tr>\n",
              "  </tbody>\n",
              "</table>\n",
              "</div>\n",
              "      <button class=\"colab-df-convert\" onclick=\"convertToInteractive('df-3b414cab-19d6-451a-b7a9-196ead55cf98')\"\n",
              "              title=\"Convert this dataframe to an interactive table.\"\n",
              "              style=\"display:none;\">\n",
              "        \n",
              "  <svg xmlns=\"http://www.w3.org/2000/svg\" height=\"24px\"viewBox=\"0 0 24 24\"\n",
              "       width=\"24px\">\n",
              "    <path d=\"M0 0h24v24H0V0z\" fill=\"none\"/>\n",
              "    <path d=\"M18.56 5.44l.94 2.06.94-2.06 2.06-.94-2.06-.94-.94-2.06-.94 2.06-2.06.94zm-11 1L8.5 8.5l.94-2.06 2.06-.94-2.06-.94L8.5 2.5l-.94 2.06-2.06.94zm10 10l.94 2.06.94-2.06 2.06-.94-2.06-.94-.94-2.06-.94 2.06-2.06.94z\"/><path d=\"M17.41 7.96l-1.37-1.37c-.4-.4-.92-.59-1.43-.59-.52 0-1.04.2-1.43.59L10.3 9.45l-7.72 7.72c-.78.78-.78 2.05 0 2.83L4 21.41c.39.39.9.59 1.41.59.51 0 1.02-.2 1.41-.59l7.78-7.78 2.81-2.81c.8-.78.8-2.07 0-2.86zM5.41 20L4 18.59l7.72-7.72 1.47 1.35L5.41 20z\"/>\n",
              "  </svg>\n",
              "      </button>\n",
              "      \n",
              "  <style>\n",
              "    .colab-df-container {\n",
              "      display:flex;\n",
              "      flex-wrap:wrap;\n",
              "      gap: 12px;\n",
              "    }\n",
              "\n",
              "    .colab-df-convert {\n",
              "      background-color: #E8F0FE;\n",
              "      border: none;\n",
              "      border-radius: 50%;\n",
              "      cursor: pointer;\n",
              "      display: none;\n",
              "      fill: #1967D2;\n",
              "      height: 32px;\n",
              "      padding: 0 0 0 0;\n",
              "      width: 32px;\n",
              "    }\n",
              "\n",
              "    .colab-df-convert:hover {\n",
              "      background-color: #E2EBFA;\n",
              "      box-shadow: 0px 1px 2px rgba(60, 64, 67, 0.3), 0px 1px 3px 1px rgba(60, 64, 67, 0.15);\n",
              "      fill: #174EA6;\n",
              "    }\n",
              "\n",
              "    [theme=dark] .colab-df-convert {\n",
              "      background-color: #3B4455;\n",
              "      fill: #D2E3FC;\n",
              "    }\n",
              "\n",
              "    [theme=dark] .colab-df-convert:hover {\n",
              "      background-color: #434B5C;\n",
              "      box-shadow: 0px 1px 3px 1px rgba(0, 0, 0, 0.15);\n",
              "      filter: drop-shadow(0px 1px 2px rgba(0, 0, 0, 0.3));\n",
              "      fill: #FFFFFF;\n",
              "    }\n",
              "  </style>\n",
              "\n",
              "      <script>\n",
              "        const buttonEl =\n",
              "          document.querySelector('#df-3b414cab-19d6-451a-b7a9-196ead55cf98 button.colab-df-convert');\n",
              "        buttonEl.style.display =\n",
              "          google.colab.kernel.accessAllowed ? 'block' : 'none';\n",
              "\n",
              "        async function convertToInteractive(key) {\n",
              "          const element = document.querySelector('#df-3b414cab-19d6-451a-b7a9-196ead55cf98');\n",
              "          const dataTable =\n",
              "            await google.colab.kernel.invokeFunction('convertToInteractive',\n",
              "                                                     [key], {});\n",
              "          if (!dataTable) return;\n",
              "\n",
              "          const docLinkHtml = 'Like what you see? Visit the ' +\n",
              "            '<a target=\"_blank\" href=https://colab.research.google.com/notebooks/data_table.ipynb>data table notebook</a>'\n",
              "            + ' to learn more about interactive tables.';\n",
              "          element.innerHTML = '';\n",
              "          dataTable['output_type'] = 'display_data';\n",
              "          await google.colab.output.renderOutput(dataTable, element);\n",
              "          const docLink = document.createElement('div');\n",
              "          docLink.innerHTML = docLinkHtml;\n",
              "          element.appendChild(docLink);\n",
              "        }\n",
              "      </script>\n",
              "    </div>\n",
              "  </div>\n",
              "  "
            ],
            "text/plain": [
              "          Area Type                           Area Name        Date  Year   \\\n",
              "0              State                          California 1976-01-01   1976   \n",
              "1              State                          California 1976-01-01   1976   \n",
              "2             County                  Los Angeles County 1976-01-01   1976   \n",
              "3             County                  Los Angeles County 1976-01-01   1976   \n",
              "4  Metropolitan Area  Los Angeles-Long Beach-Glendale MD 1976-01-01   1976   \n",
              "\n",
              "     Month Seasonally Adjusted (Y/N)  Status (Preliminary / Final)   \\\n",
              "0  January                          N                         Final   \n",
              "1  January                          Y                         Final   \n",
              "2  January                          N                         Final   \n",
              "3  January                          Y                         Final   \n",
              "4  January                          N                         Final   \n",
              "\n",
              "   Labor Force  Employment   Unemployment   Unemployment Rate   \\\n",
              "0      9672362      8668016        1004346                0.10   \n",
              "1      9774280      8875685         898595                0.09   \n",
              "2      3364151      3040058         324093                0.10   \n",
              "3      3381856      3081806         300050                0.09   \n",
              "4      3364151      3040058         324093                0.10   \n",
              "\n",
              "                   ts  Employment Rate  \n",
              "0  189302400000000000             0.90  \n",
              "1  189302400000000000             0.91  \n",
              "2  189302400000000000             0.90  \n",
              "3  189302400000000000             0.91  \n",
              "4  189302400000000000             0.90  "
            ]
          },
          "execution_count": 17,
          "metadata": {},
          "output_type": "execute_result"
        }
      ],
      "source": [
        "df = pd.read_pickle(\"./unemployment_working_data.pkl\") \n",
        "df.head()"
      ]
    },
    {
      "cell_type": "code",
      "execution_count": null,
      "metadata": {
        "colab": {
          "background_save": true
        },
        "id": "czgLAZEBexqA"
      },
      "outputs": [],
      "source": [
        "data.columns = ['Area Type', 'Area Name', 'Date', 'Year', 'Month',\n",
        "       'Seasonally Adjusted (Y/N)', 'Status (Preliminary / Final)',\n",
        "       'Labor Force', 'Employment', 'Unemployment', 'Unemployment Rate','ts','Employment Rate']\n",
        "cat_col = ['Area Type', 'Area Name','Seasonally Adjusted (Y/N)', 'Status (Preliminary / Final)']\n",
        "time_col = ['Date', 'Year', 'Month']\n",
        "num_col = ['Labor Force', 'Employment', 'Unemployment', 'Unemployment Rate', 'ts', 'Employment Rate']"
      ]
    },
    {
      "cell_type": "code",
      "execution_count": null,
      "metadata": {
        "colab": {
          "background_save": true
        },
        "id": "SP4P-qMqMYiT",
        "outputId": "8293b10e-0f8d-4666-edea-38c26db80ccc"
      },
      "outputs": [
        {
          "data": {
            "text/plain": [
              "Sub-County Place     142596\n",
              "County                23523\n",
              "Metropolitan Area     12126\n",
              "MSA                   10192\n",
              "Metro Division         1568\n",
              "State                  1122\n",
              "Name: Area Type, dtype: int64"
            ]
          },
          "execution_count": 19,
          "metadata": {},
          "output_type": "execute_result"
        }
      ],
      "source": [
        "data[\"Area Type\"].value_counts()"
      ]
    },
    {
      "cell_type": "code",
      "execution_count": null,
      "metadata": {
        "id": "zpfPjyFVMkGb"
      },
      "outputs": [],
      "source": [
        "data[\"Area Name\"].value_counts()"
      ]
    },
    {
      "cell_type": "code",
      "execution_count": null,
      "metadata": {
        "colab": {
          "base_uri": "https://localhost:8080/"
        },
        "id": "l8B9EOTcNW5N",
        "outputId": "5da4dbaa-c0b6-4682-e948-3bd8557ad1aa"
      },
      "outputs": [
        {
          "data": {
            "text/plain": [
              "N    177684\n",
              "Y     13443\n",
              "Name: Seasonally Adjusted (Y/N), dtype: int64"
            ]
          },
          "execution_count": 21,
          "metadata": {},
          "output_type": "execute_result"
        }
      ],
      "source": [
        "data[\"Seasonally Adjusted (Y/N)\"].value_counts()"
      ]
    },
    {
      "cell_type": "code",
      "execution_count": null,
      "metadata": {
        "colab": {
          "base_uri": "https://localhost:8080/"
        },
        "id": "waEVMGB6EDlg",
        "outputId": "02b2e070-e8f6-4371-b655-ff2fde2fb4a4"
      },
      "outputs": [
        {
          "data": {
            "text/plain": [
              "Final          190074\n",
              "Preliminary      1023\n",
              "Prelim             30\n",
              "Name: Status (Preliminary / Final), dtype: int64"
            ]
          },
          "execution_count": 22,
          "metadata": {},
          "output_type": "execute_result"
        }
      ],
      "source": [
        "data[\"Status (Preliminary / Final)\"].value_counts()"
      ]
    },
    {
      "cell_type": "code",
      "execution_count": null,
      "metadata": {
        "id": "qCVDYYcPRgbk"
      },
      "outputs": [],
      "source": [
        "subData = data.loc[(data['Area Type']=='State')]\n",
        "subData = subData.loc[(subData['Seasonally Adjusted (Y/N)']=='N')]\n",
        "subData = subData.loc[(subData['Status (Preliminary / Final)']=='Final')]"
      ]
    },
    {
      "cell_type": "code",
      "execution_count": null,
      "metadata": {
        "colab": {
          "base_uri": "https://localhost:8080/"
        },
        "id": "wrd-j53mUFf9",
        "outputId": "216f3448-cd02-492a-be3b-87d64e3bbbbd"
      },
      "outputs": [
        {
          "data": {
            "text/html": [
              "\n",
              "  <div id=\"df-e780d015-5ad7-4d04-84e7-3bb3513448c5\">\n",
              "    <div class=\"colab-df-container\">\n",
              "      <div>\n",
              "<style scoped>\n",
              "    .dataframe tbody tr th:only-of-type {\n",
              "        vertical-align: middle;\n",
              "    }\n",
              "\n",
              "    .dataframe tbody tr th {\n",
              "        vertical-align: top;\n",
              "    }\n",
              "\n",
              "    .dataframe thead th {\n",
              "        text-align: right;\n",
              "    }\n",
              "</style>\n",
              "<table border=\"1\" class=\"dataframe\">\n",
              "  <thead>\n",
              "    <tr style=\"text-align: right;\">\n",
              "      <th></th>\n",
              "      <th>Area Type</th>\n",
              "      <th>Area Name</th>\n",
              "      <th>Date</th>\n",
              "      <th>Year</th>\n",
              "      <th>Month</th>\n",
              "      <th>Seasonally Adjusted (Y/N)</th>\n",
              "      <th>Status (Preliminary / Final)</th>\n",
              "      <th>Labor Force</th>\n",
              "      <th>Employment</th>\n",
              "      <th>Unemployment</th>\n",
              "      <th>Unemployment Rate</th>\n",
              "      <th>ts</th>\n",
              "      <th>Employment Rate</th>\n",
              "    </tr>\n",
              "  </thead>\n",
              "  <tbody>\n",
              "    <tr>\n",
              "      <th>0</th>\n",
              "      <td>State</td>\n",
              "      <td>California</td>\n",
              "      <td>1976-01-01</td>\n",
              "      <td>1976</td>\n",
              "      <td>January</td>\n",
              "      <td>N</td>\n",
              "      <td>Final</td>\n",
              "      <td>9672362</td>\n",
              "      <td>8668016</td>\n",
              "      <td>1004346</td>\n",
              "      <td>0.10</td>\n",
              "      <td>189302400000000000</td>\n",
              "      <td>0.90</td>\n",
              "    </tr>\n",
              "    <tr>\n",
              "      <th>6</th>\n",
              "      <td>State</td>\n",
              "      <td>California</td>\n",
              "      <td>1977-01-01</td>\n",
              "      <td>1977</td>\n",
              "      <td>January</td>\n",
              "      <td>N</td>\n",
              "      <td>Final</td>\n",
              "      <td>10071966</td>\n",
              "      <td>9074522</td>\n",
              "      <td>997444</td>\n",
              "      <td>0.10</td>\n",
              "      <td>220924800000000000</td>\n",
              "      <td>0.90</td>\n",
              "    </tr>\n",
              "    <tr>\n",
              "      <th>12</th>\n",
              "      <td>State</td>\n",
              "      <td>California</td>\n",
              "      <td>1978-01-01</td>\n",
              "      <td>1978</td>\n",
              "      <td>January</td>\n",
              "      <td>N</td>\n",
              "      <td>Final</td>\n",
              "      <td>10613102</td>\n",
              "      <td>9737384</td>\n",
              "      <td>875718</td>\n",
              "      <td>0.08</td>\n",
              "      <td>252460800000000000</td>\n",
              "      <td>0.92</td>\n",
              "    </tr>\n",
              "    <tr>\n",
              "      <th>18</th>\n",
              "      <td>State</td>\n",
              "      <td>California</td>\n",
              "      <td>1979-01-01</td>\n",
              "      <td>1979</td>\n",
              "      <td>January</td>\n",
              "      <td>N</td>\n",
              "      <td>Final</td>\n",
              "      <td>11098776</td>\n",
              "      <td>10309724</td>\n",
              "      <td>789052</td>\n",
              "      <td>0.07</td>\n",
              "      <td>283996800000000000</td>\n",
              "      <td>0.93</td>\n",
              "    </tr>\n",
              "    <tr>\n",
              "      <th>24</th>\n",
              "      <td>State</td>\n",
              "      <td>California</td>\n",
              "      <td>1980-01-01</td>\n",
              "      <td>1980</td>\n",
              "      <td>January</td>\n",
              "      <td>N</td>\n",
              "      <td>Final</td>\n",
              "      <td>11440457</td>\n",
              "      <td>10659639</td>\n",
              "      <td>780818</td>\n",
              "      <td>0.07</td>\n",
              "      <td>315532800000000000</td>\n",
              "      <td>0.93</td>\n",
              "    </tr>\n",
              "    <tr>\n",
              "      <th>...</th>\n",
              "      <td>...</td>\n",
              "      <td>...</td>\n",
              "      <td>...</td>\n",
              "      <td>...</td>\n",
              "      <td>...</td>\n",
              "      <td>...</td>\n",
              "      <td>...</td>\n",
              "      <td>...</td>\n",
              "      <td>...</td>\n",
              "      <td>...</td>\n",
              "      <td>...</td>\n",
              "      <td>...</td>\n",
              "      <td>...</td>\n",
              "    </tr>\n",
              "    <tr>\n",
              "      <th>174252</th>\n",
              "      <td>State</td>\n",
              "      <td>California</td>\n",
              "      <td>2017-12-01</td>\n",
              "      <td>2017</td>\n",
              "      <td>December</td>\n",
              "      <td>N</td>\n",
              "      <td>Final</td>\n",
              "      <td>19113100</td>\n",
              "      <td>18290000</td>\n",
              "      <td>823100</td>\n",
              "      <td>0.04</td>\n",
              "      <td>1512086400000000000</td>\n",
              "      <td>0.96</td>\n",
              "    </tr>\n",
              "    <tr>\n",
              "      <th>175275</th>\n",
              "      <td>State</td>\n",
              "      <td>California</td>\n",
              "      <td>2018-12-01</td>\n",
              "      <td>2018</td>\n",
              "      <td>December</td>\n",
              "      <td>N</td>\n",
              "      <td>Final</td>\n",
              "      <td>19311900</td>\n",
              "      <td>18499900</td>\n",
              "      <td>812000</td>\n",
              "      <td>0.04</td>\n",
              "      <td>1543622400000000000</td>\n",
              "      <td>0.96</td>\n",
              "    </tr>\n",
              "    <tr>\n",
              "      <th>176298</th>\n",
              "      <td>State</td>\n",
              "      <td>California</td>\n",
              "      <td>2019-12-01</td>\n",
              "      <td>2019</td>\n",
              "      <td>December</td>\n",
              "      <td>N</td>\n",
              "      <td>Final</td>\n",
              "      <td>19493000</td>\n",
              "      <td>18742400</td>\n",
              "      <td>750600</td>\n",
              "      <td>0.04</td>\n",
              "      <td>1575158400000000000</td>\n",
              "      <td>0.96</td>\n",
              "    </tr>\n",
              "    <tr>\n",
              "      <th>177321</th>\n",
              "      <td>State</td>\n",
              "      <td>California</td>\n",
              "      <td>2020-12-01</td>\n",
              "      <td>2020</td>\n",
              "      <td>December</td>\n",
              "      <td>N</td>\n",
              "      <td>Final</td>\n",
              "      <td>18613700</td>\n",
              "      <td>16929300</td>\n",
              "      <td>1684400</td>\n",
              "      <td>0.09</td>\n",
              "      <td>1606780800000000000</td>\n",
              "      <td>0.91</td>\n",
              "    </tr>\n",
              "    <tr>\n",
              "      <th>178344</th>\n",
              "      <td>State</td>\n",
              "      <td>California</td>\n",
              "      <td>2021-12-01</td>\n",
              "      <td>2021</td>\n",
              "      <td>December</td>\n",
              "      <td>N</td>\n",
              "      <td>Final</td>\n",
              "      <td>19041000</td>\n",
              "      <td>18127700</td>\n",
              "      <td>913300</td>\n",
              "      <td>0.05</td>\n",
              "      <td>1638316800000000000</td>\n",
              "      <td>0.95</td>\n",
              "    </tr>\n",
              "  </tbody>\n",
              "</table>\n",
              "<p>560 rows × 13 columns</p>\n",
              "</div>\n",
              "      <button class=\"colab-df-convert\" onclick=\"convertToInteractive('df-e780d015-5ad7-4d04-84e7-3bb3513448c5')\"\n",
              "              title=\"Convert this dataframe to an interactive table.\"\n",
              "              style=\"display:none;\">\n",
              "        \n",
              "  <svg xmlns=\"http://www.w3.org/2000/svg\" height=\"24px\"viewBox=\"0 0 24 24\"\n",
              "       width=\"24px\">\n",
              "    <path d=\"M0 0h24v24H0V0z\" fill=\"none\"/>\n",
              "    <path d=\"M18.56 5.44l.94 2.06.94-2.06 2.06-.94-2.06-.94-.94-2.06-.94 2.06-2.06.94zm-11 1L8.5 8.5l.94-2.06 2.06-.94-2.06-.94L8.5 2.5l-.94 2.06-2.06.94zm10 10l.94 2.06.94-2.06 2.06-.94-2.06-.94-.94-2.06-.94 2.06-2.06.94z\"/><path d=\"M17.41 7.96l-1.37-1.37c-.4-.4-.92-.59-1.43-.59-.52 0-1.04.2-1.43.59L10.3 9.45l-7.72 7.72c-.78.78-.78 2.05 0 2.83L4 21.41c.39.39.9.59 1.41.59.51 0 1.02-.2 1.41-.59l7.78-7.78 2.81-2.81c.8-.78.8-2.07 0-2.86zM5.41 20L4 18.59l7.72-7.72 1.47 1.35L5.41 20z\"/>\n",
              "  </svg>\n",
              "      </button>\n",
              "      \n",
              "  <style>\n",
              "    .colab-df-container {\n",
              "      display:flex;\n",
              "      flex-wrap:wrap;\n",
              "      gap: 12px;\n",
              "    }\n",
              "\n",
              "    .colab-df-convert {\n",
              "      background-color: #E8F0FE;\n",
              "      border: none;\n",
              "      border-radius: 50%;\n",
              "      cursor: pointer;\n",
              "      display: none;\n",
              "      fill: #1967D2;\n",
              "      height: 32px;\n",
              "      padding: 0 0 0 0;\n",
              "      width: 32px;\n",
              "    }\n",
              "\n",
              "    .colab-df-convert:hover {\n",
              "      background-color: #E2EBFA;\n",
              "      box-shadow: 0px 1px 2px rgba(60, 64, 67, 0.3), 0px 1px 3px 1px rgba(60, 64, 67, 0.15);\n",
              "      fill: #174EA6;\n",
              "    }\n",
              "\n",
              "    [theme=dark] .colab-df-convert {\n",
              "      background-color: #3B4455;\n",
              "      fill: #D2E3FC;\n",
              "    }\n",
              "\n",
              "    [theme=dark] .colab-df-convert:hover {\n",
              "      background-color: #434B5C;\n",
              "      box-shadow: 0px 1px 3px 1px rgba(0, 0, 0, 0.15);\n",
              "      filter: drop-shadow(0px 1px 2px rgba(0, 0, 0, 0.3));\n",
              "      fill: #FFFFFF;\n",
              "    }\n",
              "  </style>\n",
              "\n",
              "      <script>\n",
              "        const buttonEl =\n",
              "          document.querySelector('#df-e780d015-5ad7-4d04-84e7-3bb3513448c5 button.colab-df-convert');\n",
              "        buttonEl.style.display =\n",
              "          google.colab.kernel.accessAllowed ? 'block' : 'none';\n",
              "\n",
              "        async function convertToInteractive(key) {\n",
              "          const element = document.querySelector('#df-e780d015-5ad7-4d04-84e7-3bb3513448c5');\n",
              "          const dataTable =\n",
              "            await google.colab.kernel.invokeFunction('convertToInteractive',\n",
              "                                                     [key], {});\n",
              "          if (!dataTable) return;\n",
              "\n",
              "          const docLinkHtml = 'Like what you see? Visit the ' +\n",
              "            '<a target=\"_blank\" href=https://colab.research.google.com/notebooks/data_table.ipynb>data table notebook</a>'\n",
              "            + ' to learn more about interactive tables.';\n",
              "          element.innerHTML = '';\n",
              "          dataTable['output_type'] = 'display_data';\n",
              "          await google.colab.output.renderOutput(dataTable, element);\n",
              "          const docLink = document.createElement('div');\n",
              "          docLink.innerHTML = docLinkHtml;\n",
              "          element.appendChild(docLink);\n",
              "        }\n",
              "      </script>\n",
              "    </div>\n",
              "  </div>\n",
              "  "
            ],
            "text/plain": [
              "       Area Type   Area Name       Date  Year     Month  \\\n",
              "0          State  California 1976-01-01  1976   January   \n",
              "6          State  California 1977-01-01  1977   January   \n",
              "12         State  California 1978-01-01  1978   January   \n",
              "18         State  California 1979-01-01  1979   January   \n",
              "24         State  California 1980-01-01  1980   January   \n",
              "...          ...         ...        ...   ...       ...   \n",
              "174252     State  California 2017-12-01  2017  December   \n",
              "175275     State  California 2018-12-01  2018  December   \n",
              "176298     State  California 2019-12-01  2019  December   \n",
              "177321     State  California 2020-12-01  2020  December   \n",
              "178344     State  California 2021-12-01  2021  December   \n",
              "\n",
              "       Seasonally Adjusted (Y/N) Status (Preliminary / Final)  Labor Force  \\\n",
              "0                              N                        Final      9672362   \n",
              "6                              N                        Final     10071966   \n",
              "12                             N                        Final     10613102   \n",
              "18                             N                        Final     11098776   \n",
              "24                             N                        Final     11440457   \n",
              "...                          ...                          ...          ...   \n",
              "174252                         N                        Final     19113100   \n",
              "175275                         N                        Final     19311900   \n",
              "176298                         N                        Final     19493000   \n",
              "177321                         N                        Final     18613700   \n",
              "178344                         N                        Final     19041000   \n",
              "\n",
              "        Employment  Unemployment  Unemployment Rate                   ts  \\\n",
              "0          8668016       1004346               0.10   189302400000000000   \n",
              "6          9074522        997444               0.10   220924800000000000   \n",
              "12         9737384        875718               0.08   252460800000000000   \n",
              "18        10309724        789052               0.07   283996800000000000   \n",
              "24        10659639        780818               0.07   315532800000000000   \n",
              "...            ...           ...                ...                  ...   \n",
              "174252    18290000        823100               0.04  1512086400000000000   \n",
              "175275    18499900        812000               0.04  1543622400000000000   \n",
              "176298    18742400        750600               0.04  1575158400000000000   \n",
              "177321    16929300       1684400               0.09  1606780800000000000   \n",
              "178344    18127700        913300               0.05  1638316800000000000   \n",
              "\n",
              "        Employment Rate  \n",
              "0                  0.90  \n",
              "6                  0.90  \n",
              "12                 0.92  \n",
              "18                 0.93  \n",
              "24                 0.93  \n",
              "...                 ...  \n",
              "174252             0.96  \n",
              "175275             0.96  \n",
              "176298             0.96  \n",
              "177321             0.91  \n",
              "178344             0.95  \n",
              "\n",
              "[560 rows x 13 columns]"
            ]
          },
          "execution_count": 24,
          "metadata": {},
          "output_type": "execute_result"
        }
      ],
      "source": [
        "subData"
      ]
    },
    {
      "cell_type": "code",
      "execution_count": null,
      "metadata": {
        "colab": {
          "base_uri": "https://localhost:8080/"
        },
        "id": "CM-WkAefVawG",
        "outputId": "d2c01441-b8e5-4b2e-835e-c125899a6c28"
      },
      "outputs": [
        {
          "data": {
            "text/html": [
              "\n",
              "  <div id=\"df-714954a8-ad54-4c2a-8a83-fa20d065e898\">\n",
              "    <div class=\"colab-df-container\">\n",
              "      <div>\n",
              "<style scoped>\n",
              "    .dataframe tbody tr th:only-of-type {\n",
              "        vertical-align: middle;\n",
              "    }\n",
              "\n",
              "    .dataframe tbody tr th {\n",
              "        vertical-align: top;\n",
              "    }\n",
              "\n",
              "    .dataframe thead th {\n",
              "        text-align: right;\n",
              "    }\n",
              "</style>\n",
              "<table border=\"1\" class=\"dataframe\">\n",
              "  <thead>\n",
              "    <tr style=\"text-align: right;\">\n",
              "      <th></th>\n",
              "      <th>Unemployment Rate</th>\n",
              "    </tr>\n",
              "    <tr>\n",
              "      <th>Date</th>\n",
              "      <th></th>\n",
              "    </tr>\n",
              "  </thead>\n",
              "  <tbody>\n",
              "    <tr>\n",
              "      <th>1976-01-01</th>\n",
              "      <td>0.10</td>\n",
              "    </tr>\n",
              "    <tr>\n",
              "      <th>1977-01-01</th>\n",
              "      <td>0.10</td>\n",
              "    </tr>\n",
              "    <tr>\n",
              "      <th>1978-01-01</th>\n",
              "      <td>0.08</td>\n",
              "    </tr>\n",
              "    <tr>\n",
              "      <th>1979-01-01</th>\n",
              "      <td>0.07</td>\n",
              "    </tr>\n",
              "    <tr>\n",
              "      <th>1980-01-01</th>\n",
              "      <td>0.07</td>\n",
              "    </tr>\n",
              "    <tr>\n",
              "      <th>...</th>\n",
              "      <td>...</td>\n",
              "    </tr>\n",
              "    <tr>\n",
              "      <th>2017-12-01</th>\n",
              "      <td>0.04</td>\n",
              "    </tr>\n",
              "    <tr>\n",
              "      <th>2018-12-01</th>\n",
              "      <td>0.04</td>\n",
              "    </tr>\n",
              "    <tr>\n",
              "      <th>2019-12-01</th>\n",
              "      <td>0.04</td>\n",
              "    </tr>\n",
              "    <tr>\n",
              "      <th>2020-12-01</th>\n",
              "      <td>0.09</td>\n",
              "    </tr>\n",
              "    <tr>\n",
              "      <th>2021-12-01</th>\n",
              "      <td>0.05</td>\n",
              "    </tr>\n",
              "  </tbody>\n",
              "</table>\n",
              "<p>560 rows × 1 columns</p>\n",
              "</div>\n",
              "      <button class=\"colab-df-convert\" onclick=\"convertToInteractive('df-714954a8-ad54-4c2a-8a83-fa20d065e898')\"\n",
              "              title=\"Convert this dataframe to an interactive table.\"\n",
              "              style=\"display:none;\">\n",
              "        \n",
              "  <svg xmlns=\"http://www.w3.org/2000/svg\" height=\"24px\"viewBox=\"0 0 24 24\"\n",
              "       width=\"24px\">\n",
              "    <path d=\"M0 0h24v24H0V0z\" fill=\"none\"/>\n",
              "    <path d=\"M18.56 5.44l.94 2.06.94-2.06 2.06-.94-2.06-.94-.94-2.06-.94 2.06-2.06.94zm-11 1L8.5 8.5l.94-2.06 2.06-.94-2.06-.94L8.5 2.5l-.94 2.06-2.06.94zm10 10l.94 2.06.94-2.06 2.06-.94-2.06-.94-.94-2.06-.94 2.06-2.06.94z\"/><path d=\"M17.41 7.96l-1.37-1.37c-.4-.4-.92-.59-1.43-.59-.52 0-1.04.2-1.43.59L10.3 9.45l-7.72 7.72c-.78.78-.78 2.05 0 2.83L4 21.41c.39.39.9.59 1.41.59.51 0 1.02-.2 1.41-.59l7.78-7.78 2.81-2.81c.8-.78.8-2.07 0-2.86zM5.41 20L4 18.59l7.72-7.72 1.47 1.35L5.41 20z\"/>\n",
              "  </svg>\n",
              "      </button>\n",
              "      \n",
              "  <style>\n",
              "    .colab-df-container {\n",
              "      display:flex;\n",
              "      flex-wrap:wrap;\n",
              "      gap: 12px;\n",
              "    }\n",
              "\n",
              "    .colab-df-convert {\n",
              "      background-color: #E8F0FE;\n",
              "      border: none;\n",
              "      border-radius: 50%;\n",
              "      cursor: pointer;\n",
              "      display: none;\n",
              "      fill: #1967D2;\n",
              "      height: 32px;\n",
              "      padding: 0 0 0 0;\n",
              "      width: 32px;\n",
              "    }\n",
              "\n",
              "    .colab-df-convert:hover {\n",
              "      background-color: #E2EBFA;\n",
              "      box-shadow: 0px 1px 2px rgba(60, 64, 67, 0.3), 0px 1px 3px 1px rgba(60, 64, 67, 0.15);\n",
              "      fill: #174EA6;\n",
              "    }\n",
              "\n",
              "    [theme=dark] .colab-df-convert {\n",
              "      background-color: #3B4455;\n",
              "      fill: #D2E3FC;\n",
              "    }\n",
              "\n",
              "    [theme=dark] .colab-df-convert:hover {\n",
              "      background-color: #434B5C;\n",
              "      box-shadow: 0px 1px 3px 1px rgba(0, 0, 0, 0.15);\n",
              "      filter: drop-shadow(0px 1px 2px rgba(0, 0, 0, 0.3));\n",
              "      fill: #FFFFFF;\n",
              "    }\n",
              "  </style>\n",
              "\n",
              "      <script>\n",
              "        const buttonEl =\n",
              "          document.querySelector('#df-714954a8-ad54-4c2a-8a83-fa20d065e898 button.colab-df-convert');\n",
              "        buttonEl.style.display =\n",
              "          google.colab.kernel.accessAllowed ? 'block' : 'none';\n",
              "\n",
              "        async function convertToInteractive(key) {\n",
              "          const element = document.querySelector('#df-714954a8-ad54-4c2a-8a83-fa20d065e898');\n",
              "          const dataTable =\n",
              "            await google.colab.kernel.invokeFunction('convertToInteractive',\n",
              "                                                     [key], {});\n",
              "          if (!dataTable) return;\n",
              "\n",
              "          const docLinkHtml = 'Like what you see? Visit the ' +\n",
              "            '<a target=\"_blank\" href=https://colab.research.google.com/notebooks/data_table.ipynb>data table notebook</a>'\n",
              "            + ' to learn more about interactive tables.';\n",
              "          element.innerHTML = '';\n",
              "          dataTable['output_type'] = 'display_data';\n",
              "          await google.colab.output.renderOutput(dataTable, element);\n",
              "          const docLink = document.createElement('div');\n",
              "          docLink.innerHTML = docLinkHtml;\n",
              "          element.appendChild(docLink);\n",
              "        }\n",
              "      </script>\n",
              "    </div>\n",
              "  </div>\n",
              "  "
            ],
            "text/plain": [
              "            Unemployment Rate\n",
              "Date                         \n",
              "1976-01-01               0.10\n",
              "1977-01-01               0.10\n",
              "1978-01-01               0.08\n",
              "1979-01-01               0.07\n",
              "1980-01-01               0.07\n",
              "...                       ...\n",
              "2017-12-01               0.04\n",
              "2018-12-01               0.04\n",
              "2019-12-01               0.04\n",
              "2020-12-01               0.09\n",
              "2021-12-01               0.05\n",
              "\n",
              "[560 rows x 1 columns]"
            ]
          },
          "execution_count": 25,
          "metadata": {},
          "output_type": "execute_result"
        }
      ],
      "source": [
        "Pre = subData[['Date', 'Unemployment Rate']]\n",
        "Pre.set_index([\"Date\"], inplace=True)\n",
        "Pre\n"
      ]
    },
    {
      "cell_type": "code",
      "execution_count": null,
      "metadata": {
        "id": "Yx2u0ygCd-gE"
      },
      "outputs": [],
      "source": [
        "dataset = Pre.values"
      ]
    },
    {
      "cell_type": "code",
      "execution_count": null,
      "metadata": {
        "colab": {
          "base_uri": "https://localhost:8080/"
        },
        "id": "ZaMhLbBsX0-S",
        "outputId": "8259da6e-43d2-44d2-a98d-eddd1f6b6816"
      },
      "outputs": [
        {
          "data": {
            "text/plain": [
              "<Figure size 864x576 with 0 Axes>"
            ]
          },
          "metadata": {},
          "output_type": "display_data"
        },
        {
          "data": {
            "image/png": "[encoded data removed]",
            "text/plain": [
              "<Figure size 432x288 with 1 Axes>"
            ]
          },
          "metadata": {},
          "output_type": "display_data"
        }
      ],
      "source": [
        "plt.figure(figsize=(12, 8))\n",
        "Pre.plot()\n",
        "plt.ylabel('rate')\n",
        "plt.yticks(np.arange(0, 1, 1))\n",
        "plt.show()"
      ]
    },
    {
      "cell_type": "code",
      "execution_count": null,
      "metadata": {
        "colab": {
          "base_uri": "https://localhost:8080/"
        },
        "id": "DqVxy2mOH8gP",
        "outputId": "7b390fe4-aac1-40e6-f785-f62477ef35ea"
      },
      "outputs": [
        {
          "data": {
            "image/png": "[encoded data removed]",
            "text/plain": [
              "<Figure size 864x720 with 2 Axes>"
            ]
          },
          "metadata": {},
          "output_type": "display_data"
        }
      ],
      "source": [
        "plt.figure(figsize=(12,10))\n",
        "cor = subData.corr()\n",
        "sns.heatmap(cor, annot=True, cmap=plt.cm.Reds)\n",
        "plt.show()"
      ]
    },
    {
      "cell_type": "code",
      "execution_count": null,
      "metadata": {
        "colab": {
          "base_uri": "https://localhost:8080/"
        },
        "id": "xejiGh_3RIF7",
        "outputId": "592cb9b3-a232-4143-8482-16d082c5cedf"
      },
      "outputs": [
        {
          "data": {
            "text/html": [
              "\n",
              "  <div id=\"df-d8a23a4c-bf06-4146-b9eb-c10cdd6b1412\">\n",
              "    <div class=\"colab-df-container\">\n",
              "      <div>\n",
              "<style scoped>\n",
              "    .dataframe tbody tr th:only-of-type {\n",
              "        vertical-align: middle;\n",
              "    }\n",
              "\n",
              "    .dataframe tbody tr th {\n",
              "        vertical-align: top;\n",
              "    }\n",
              "\n",
              "    .dataframe thead th {\n",
              "        text-align: right;\n",
              "    }\n",
              "</style>\n",
              "<table border=\"1\" class=\"dataframe\">\n",
              "  <thead>\n",
              "    <tr style=\"text-align: right;\">\n",
              "      <th></th>\n",
              "      <th>Date</th>\n",
              "      <th>Labor Force</th>\n",
              "    </tr>\n",
              "  </thead>\n",
              "  <tbody>\n",
              "    <tr>\n",
              "      <th>0</th>\n",
              "      <td>-1.73</td>\n",
              "      <td>-2.25</td>\n",
              "    </tr>\n",
              "    <tr>\n",
              "      <th>6</th>\n",
              "      <td>-1.65</td>\n",
              "      <td>-2.10</td>\n",
              "    </tr>\n",
              "    <tr>\n",
              "      <th>12</th>\n",
              "      <td>-1.58</td>\n",
              "      <td>-1.91</td>\n",
              "    </tr>\n",
              "    <tr>\n",
              "      <th>18</th>\n",
              "      <td>-1.50</td>\n",
              "      <td>-1.73</td>\n",
              "    </tr>\n",
              "    <tr>\n",
              "      <th>24</th>\n",
              "      <td>-1.43</td>\n",
              "      <td>-1.61</td>\n",
              "    </tr>\n",
              "  </tbody>\n",
              "</table>\n",
              "</div>\n",
              "      <button class=\"colab-df-convert\" onclick=\"convertToInteractive('df-d8a23a4c-bf06-4146-b9eb-c10cdd6b1412')\"\n",
              "              title=\"Convert this dataframe to an interactive table.\"\n",
              "              style=\"display:none;\">\n",
              "        \n",
              "  <svg xmlns=\"http://www.w3.org/2000/svg\" height=\"24px\"viewBox=\"0 0 24 24\"\n",
              "       width=\"24px\">\n",
              "    <path d=\"M0 0h24v24H0V0z\" fill=\"none\"/>\n",
              "    <path d=\"M18.56 5.44l.94 2.06.94-2.06 2.06-.94-2.06-.94-.94-2.06-.94 2.06-2.06.94zm-11 1L8.5 8.5l.94-2.06 2.06-.94-2.06-.94L8.5 2.5l-.94 2.06-2.06.94zm10 10l.94 2.06.94-2.06 2.06-.94-2.06-.94-.94-2.06-.94 2.06-2.06.94z\"/><path d=\"M17.41 7.96l-1.37-1.37c-.4-.4-.92-.59-1.43-.59-.52 0-1.04.2-1.43.59L10.3 9.45l-7.72 7.72c-.78.78-.78 2.05 0 2.83L4 21.41c.39.39.9.59 1.41.59.51 0 1.02-.2 1.41-.59l7.78-7.78 2.81-2.81c.8-.78.8-2.07 0-2.86zM5.41 20L4 18.59l7.72-7.72 1.47 1.35L5.41 20z\"/>\n",
              "  </svg>\n",
              "      </button>\n",
              "      \n",
              "  <style>\n",
              "    .colab-df-container {\n",
              "      display:flex;\n",
              "      flex-wrap:wrap;\n",
              "      gap: 12px;\n",
              "    }\n",
              "\n",
              "    .colab-df-convert {\n",
              "      background-color: #E8F0FE;\n",
              "      border: none;\n",
              "      border-radius: 50%;\n",
              "      cursor: pointer;\n",
              "      display: none;\n",
              "      fill: #1967D2;\n",
              "      height: 32px;\n",
              "      padding: 0 0 0 0;\n",
              "      width: 32px;\n",
              "    }\n",
              "\n",
              "    .colab-df-convert:hover {\n",
              "      background-color: #E2EBFA;\n",
              "      box-shadow: 0px 1px 2px rgba(60, 64, 67, 0.3), 0px 1px 3px 1px rgba(60, 64, 67, 0.15);\n",
              "      fill: #174EA6;\n",
              "    }\n",
              "\n",
              "    [theme=dark] .colab-df-convert {\n",
              "      background-color: #3B4455;\n",
              "      fill: #D2E3FC;\n",
              "    }\n",
              "\n",
              "    [theme=dark] .colab-df-convert:hover {\n",
              "      background-color: #434B5C;\n",
              "      box-shadow: 0px 1px 3px 1px rgba(0, 0, 0, 0.15);\n",
              "      filter: drop-shadow(0px 1px 2px rgba(0, 0, 0, 0.3));\n",
              "      fill: #FFFFFF;\n",
              "    }\n",
              "  </style>\n",
              "\n",
              "      <script>\n",
              "        const buttonEl =\n",
              "          document.querySelector('#df-d8a23a4c-bf06-4146-b9eb-c10cdd6b1412 button.colab-df-convert');\n",
              "        buttonEl.style.display =\n",
              "          google.colab.kernel.accessAllowed ? 'block' : 'none';\n",
              "\n",
              "        async function convertToInteractive(key) {\n",
              "          const element = document.querySelector('#df-d8a23a4c-bf06-4146-b9eb-c10cdd6b1412');\n",
              "          const dataTable =\n",
              "            await google.colab.kernel.invokeFunction('convertToInteractive',\n",
              "                                                     [key], {});\n",
              "          if (!dataTable) return;\n",
              "\n",
              "          const docLinkHtml = 'Like what you see? Visit the ' +\n",
              "            '<a target=\"_blank\" href=https://colab.research.google.com/notebooks/data_table.ipynb>data table notebook</a>'\n",
              "            + ' to learn more about interactive tables.';\n",
              "          element.innerHTML = '';\n",
              "          dataTable['output_type'] = 'display_data';\n",
              "          await google.colab.output.renderOutput(dataTable, element);\n",
              "          const docLink = document.createElement('div');\n",
              "          docLink.innerHTML = docLinkHtml;\n",
              "          element.appendChild(docLink);\n",
              "        }\n",
              "      </script>\n",
              "    </div>\n",
              "  </div>\n",
              "  "
            ],
            "text/plain": [
              "    Date  Labor Force\n",
              "0  -1.73        -2.25\n",
              "6  -1.65        -2.10\n",
              "12 -1.58        -1.91\n",
              "18 -1.50        -1.73\n",
              "24 -1.43        -1.61"
            ]
          },
          "execution_count": 29,
          "metadata": {},
          "output_type": "execute_result"
        }
      ],
      "source": [
        "# -----------------------------------------\n",
        "# Linear Regression Benchmark:\n",
        "\n",
        "import datetime as dt\n",
        "\n",
        "X = subData.drop(['Area Type','Area Name','Month','Year','Seasonally Adjusted (Y/N)','Status (Preliminary / Final)','Employment','Unemployment', 'Unemployment Rate', 'ts', 'Employment Rate'],axis=1)\n",
        "y = subData['Unemployment Rate']\n",
        "\n",
        "# Convert datetime object to numerical value\n",
        "X['Date']=X['Date'].map(dt.datetime.toordinal)\n",
        "\n",
        "# noemalize\n",
        "X['Date'] = (X['Date'] - X['Date'].mean())/X['Date'].std()\n",
        "X['Labor Force'] = (X['Labor Force'] - X['Labor Force'].mean())/X['Labor Force'].std()\n",
        "\n",
        "# X_number   = X.select_dtypes(include='number')\n",
        "# X_category = X.select_dtypes(exclude='number')\n",
        "\n",
        "# # One-hot-encode categorical values\n",
        "# X_category = pd.get_dummies(X_category)\n",
        "# X_number = (X_number - X_number.mean())/X_number.std()\n",
        "# X = pd.concat([X_number,X_category],axis=1)\n",
        "X.head()"
      ]
    },
    {
      "cell_type": "code",
      "execution_count": null,
      "metadata": {
        "colab": {
          "base_uri": "https://localhost:8080/"
        },
        "id": "TaeJBDPFVQuF",
        "outputId": "fcf148a3-4cc5-4a72-9140-12a1bbfa66c5"
      },
      "outputs": [
        {
          "name": "stdout",
          "output_type": "stream",
          "text": [
            "R-squared = 0.03\n"
          ]
        }
      ],
      "source": [
        "from sklearn.linear_model import LinearRegression\n",
        "\n",
        "# Perform Linear Regression\n",
        "lr = LinearRegression()\n",
        "lr.fit(X,y)\n",
        "R2 = lr.score(X,y)\n",
        "# Linear Regression score\n",
        "print('R-squared =',R2.round(2))"
      ]
    },
    {
      "cell_type": "code",
      "execution_count": null,
      "metadata": {
        "colab": {
          "base_uri": "https://localhost:8080/"
        },
        "id": "VRMR1m58VS70",
        "outputId": "06cfcc71-849f-4454-919e-cc5107e44e3b"
      },
      "outputs": [
        {
          "data": {
            "text/plain": [
              "Date           0.01\n",
              "Labor Force   -0.01\n",
              "dtype: float64"
            ]
          },
          "execution_count": 31,
          "metadata": {},
          "output_type": "execute_result"
        }
      ],
      "source": [
        "# best feature parameters\n",
        "coef = lr.coef_\n",
        "coef = pd.Series(coef,index=X.columns)\n",
        "coef.sort_values(ascending=False).round(2)"
      ]
    },
    {
      "cell_type": "markdown",
      "metadata": {
        "id": "coKGxBgjB3BY"
      },
      "source": [
        "# RNN Test\n"
      ]
    },
    {
      "cell_type": "code",
      "execution_count": 48,
      "metadata": {
        "colab": {
          "base_uri": "https://localhost:8080/",
          "height": 419
        },
        "id": "j4m9syZFv-OY",
        "outputId": "ef7e3ddc-8ee6-4fd3-be54-6b2a47f27128"
      },
      "outputs": [
        {
          "data": {
            "text/html": [
              "<div>\n",
              "<style scoped>\n",
              "    .dataframe tbody tr th:only-of-type {\n",
              "        vertical-align: middle;\n",
              "    }\n",
              "\n",
              "    .dataframe tbody tr th {\n",
              "        vertical-align: top;\n",
              "    }\n",
              "\n",
              "    .dataframe thead th {\n",
              "        text-align: right;\n",
              "    }\n",
              "</style>\n",
              "<table border=\"1\" class=\"dataframe\">\n",
              "  <thead>\n",
              "    <tr style=\"text-align: right;\">\n",
              "      <th></th>\n",
              "      <th>Unemployment Rate</th>\n",
              "      <th>R-0</th>\n",
              "      <th>R-1</th>\n",
              "      <th>R-2</th>\n",
              "      <th>R-3</th>\n",
              "      <th>R-4</th>\n",
              "      <th>R-5</th>\n",
              "    </tr>\n",
              "    <tr>\n",
              "      <th>Date</th>\n",
              "      <th></th>\n",
              "      <th></th>\n",
              "      <th></th>\n",
              "      <th></th>\n",
              "      <th></th>\n",
              "      <th></th>\n",
              "      <th></th>\n",
              "    </tr>\n",
              "  </thead>\n",
              "  <tbody>\n",
              "    <tr>\n",
              "      <th>1976-03-01</th>\n",
              "      <td>0.09</td>\n",
              "      <td>0.09</td>\n",
              "      <td>0.09</td>\n",
              "      <td>0.10</td>\n",
              "      <td>0.09</td>\n",
              "      <td>0.09</td>\n",
              "      <td>0.10</td>\n",
              "    </tr>\n",
              "    <tr>\n",
              "      <th>1976-04-01</th>\n",
              "      <td>0.09</td>\n",
              "      <td>0.09</td>\n",
              "      <td>0.09</td>\n",
              "      <td>0.09</td>\n",
              "      <td>0.10</td>\n",
              "      <td>0.09</td>\n",
              "      <td>0.09</td>\n",
              "    </tr>\n",
              "    <tr>\n",
              "      <th>1976-04-01</th>\n",
              "      <td>0.09</td>\n",
              "      <td>0.09</td>\n",
              "      <td>0.09</td>\n",
              "      <td>0.09</td>\n",
              "      <td>0.09</td>\n",
              "      <td>0.10</td>\n",
              "      <td>0.09</td>\n",
              "    </tr>\n",
              "    <tr>\n",
              "      <th>1976-05-01</th>\n",
              "      <td>0.08</td>\n",
              "      <td>0.08</td>\n",
              "      <td>0.09</td>\n",
              "      <td>0.09</td>\n",
              "      <td>0.09</td>\n",
              "      <td>0.09</td>\n",
              "      <td>0.10</td>\n",
              "    </tr>\n",
              "    <tr>\n",
              "      <th>1976-05-01</th>\n",
              "      <td>0.09</td>\n",
              "      <td>0.09</td>\n",
              "      <td>0.08</td>\n",
              "      <td>0.09</td>\n",
              "      <td>0.09</td>\n",
              "      <td>0.09</td>\n",
              "      <td>0.09</td>\n",
              "    </tr>\n",
              "    <tr>\n",
              "      <th>...</th>\n",
              "      <td>...</td>\n",
              "      <td>...</td>\n",
              "      <td>...</td>\n",
              "      <td>...</td>\n",
              "      <td>...</td>\n",
              "      <td>...</td>\n",
              "      <td>...</td>\n",
              "    </tr>\n",
              "    <tr>\n",
              "      <th>2022-07-01</th>\n",
              "      <td>0.04</td>\n",
              "      <td>0.04</td>\n",
              "      <td>0.04</td>\n",
              "      <td>0.04</td>\n",
              "      <td>0.04</td>\n",
              "      <td>0.04</td>\n",
              "      <td>0.04</td>\n",
              "    </tr>\n",
              "    <tr>\n",
              "      <th>2022-08-01</th>\n",
              "      <td>0.04</td>\n",
              "      <td>0.04</td>\n",
              "      <td>0.04</td>\n",
              "      <td>0.04</td>\n",
              "      <td>0.04</td>\n",
              "      <td>0.04</td>\n",
              "      <td>0.04</td>\n",
              "    </tr>\n",
              "    <tr>\n",
              "      <th>2022-08-01</th>\n",
              "      <td>0.04</td>\n",
              "      <td>0.04</td>\n",
              "      <td>0.04</td>\n",
              "      <td>0.04</td>\n",
              "      <td>0.04</td>\n",
              "      <td>0.04</td>\n",
              "      <td>0.04</td>\n",
              "    </tr>\n",
              "    <tr>\n",
              "      <th>2022-09-01</th>\n",
              "      <td>0.04</td>\n",
              "      <td>0.04</td>\n",
              "      <td>0.04</td>\n",
              "      <td>0.04</td>\n",
              "      <td>0.04</td>\n",
              "      <td>0.04</td>\n",
              "      <td>0.04</td>\n",
              "    </tr>\n",
              "    <tr>\n",
              "      <th>2022-09-01</th>\n",
              "      <td>0.04</td>\n",
              "      <td>0.04</td>\n",
              "      <td>0.04</td>\n",
              "      <td>0.04</td>\n",
              "      <td>0.04</td>\n",
              "      <td>0.04</td>\n",
              "      <td>0.04</td>\n",
              "    </tr>\n",
              "  </tbody>\n",
              "</table>\n",
              "<p>1117 rows × 7 columns</p>\n",
              "</div>"
            ],
            "text/plain": [
              "            Unemployment Rate  R-0  R-1  R-2  R-3  R-4  R-5\n",
              "Date                                                       \n",
              "1976-03-01               0.09 0.09 0.09 0.10 0.09 0.09 0.10\n",
              "1976-04-01               0.09 0.09 0.09 0.09 0.10 0.09 0.09\n",
              "1976-04-01               0.09 0.09 0.09 0.09 0.09 0.10 0.09\n",
              "1976-05-01               0.08 0.08 0.09 0.09 0.09 0.09 0.10\n",
              "1976-05-01               0.09 0.09 0.08 0.09 0.09 0.09 0.09\n",
              "...                       ...  ...  ...  ...  ...  ...  ...\n",
              "2022-07-01               0.04 0.04 0.04 0.04 0.04 0.04 0.04\n",
              "2022-08-01               0.04 0.04 0.04 0.04 0.04 0.04 0.04\n",
              "2022-08-01               0.04 0.04 0.04 0.04 0.04 0.04 0.04\n",
              "2022-09-01               0.04 0.04 0.04 0.04 0.04 0.04 0.04\n",
              "2022-09-01               0.04 0.04 0.04 0.04 0.04 0.04 0.04\n",
              "\n",
              "[1117 rows x 7 columns]"
            ]
          },
          "execution_count": 48,
          "metadata": {},
          "output_type": "execute_result"
        }
      ],
      "source": [
        "subData = data.loc[(data['Area Type']=='State')]\n",
        "subData = subData.loc[(subData['Seasonally Adjusted (Y/N)']=='N')]\n",
        "subData = subData.loc[(subData['Status (Preliminary / Final)']=='Final')]\n",
        "\n",
        "df = subData_State[['Date', 'Unemployment Rate']]\n",
        "df.set_index([\"Date\"], inplace=True)\n",
        "df = df.sort_index(ascending=True)\n",
        "for i in range(6):\n",
        "    j = 'R-' + str(i)\n",
        "    df[j] = df['Unemployment Rate'].shift(i)\n",
        "df = df.dropna()\n",
        "df\n"
      ]
    },
    {
      "cell_type": "code",
      "execution_count": 19,
      "metadata": {
        "id": "XjywIocNb-vV"
      },
      "outputs": [],
      "source": [
        "def creat_dataset(dataset, look_back=1):\n",
        "    dataX, dataY = [], []\n",
        "    for i in range(len(dataset)-look_back-1):\n",
        "        a = dataset[i: (i+look_back)]\n",
        "        dataX.append(a)\n",
        "        dataY.append(dataset[i+look_back])\n",
        "    return np.array(dataX), np.array(dataY)"
      ]
    },
    {
      "cell_type": "code",
      "execution_count": 20,
      "metadata": {
        "id": "w6IMQKbucBq9"
      },
      "outputs": [
        {
          "ename": "NameError",
          "evalue": "name 'dataset' is not defined",
          "output_type": "error",
          "traceback": [
            "\u001b[0;31m---------------------------------------------------------------------------\u001b[0m",
            "\u001b[0;31mNameError\u001b[0m                                 Traceback (most recent call last)",
            "Cell \u001b[0;32mIn [20], line 2\u001b[0m\n\u001b[1;32m      1\u001b[0m look_back \u001b[39m=\u001b[39m \u001b[39m5\u001b[39m\n\u001b[0;32m----> 2\u001b[0m data_x, data_y \u001b[39m=\u001b[39m creat_dataset(dataset, look_back)\n",
            "\u001b[0;31mNameError\u001b[0m: name 'dataset' is not defined"
          ]
        }
      ],
      "source": [
        "look_back = 5\n",
        "data_x, data_y = creat_dataset(dataset, look_back)\n"
      ]
    },
    {
      "cell_type": "code",
      "execution_count": 21,
      "metadata": {
        "id": "srQLpk_ntLdL"
      },
      "outputs": [],
      "source": [
        "class LstmRNN(nn.Module):\n",
        "    \"\"\"\n",
        "        Parameters：\n",
        "        - input_size: feature size\n",
        "        - hidden_size: number of hidden units\n",
        "        - output_size: number of output\n",
        "        - num_layers: layers of LSTM to stack\n",
        "    \"\"\"\n",
        " \n",
        "    def __init__(self, input_size, hidden_size=1, output_size=1, num_layers=1):\n",
        "        super().__init__()\n",
        " \n",
        "        self.lstm = nn.LSTM(input_size, hidden_size, num_layers)  # utilize the LSTM model in torch.nn\n",
        "        self.linear1 = nn.Linear(hidden_size, output_size) #\n",
        " \n",
        "    def forward(self, _x):\n",
        "        x, _ = self.lstm(_x)  # _x is input, size (seq_len, batch, input_size)\n",
        "        s, b, h = x.shape  # x is output, size (seq_len, batch, hidden_size)\n",
        "        x = x.view(s * b, h)\n",
        "        x = self.linear1(x)\n",
        "        x = x.view(s, b, -1)\n",
        "        return x"
      ]
    },
    {
      "cell_type": "code",
      "execution_count": 47,
      "metadata": {
        "colab": {
          "base_uri": "https://localhost:8080/"
        },
        "id": "GiTE3xxitOIH",
        "outputId": "68648d46-e68f-4795-bd20-622100a4dc06"
      },
      "outputs": [
        {
          "name": "stdout",
          "output_type": "stream",
          "text": [
            "No GPU available, training on CPU.\n"
          ]
        }
      ],
      "source": [
        "device = torch.device(\"cpu\")\n",
        " \n",
        "if (torch.cuda.is_available()):\n",
        "    device = torch.device(\"cuda:0\")\n",
        "    print('Training on GPU.')\n",
        "else:\n",
        "    print('No GPU available, training on CPU.')\n"
      ]
    },
    {
      "cell_type": "code",
      "execution_count": 49,
      "metadata": {
        "id": "eLvHwekStSvk"
      },
      "outputs": [],
      "source": [
        "'''\n",
        "data_x = np.array(Pre.astype('float32'))\n",
        "data_y = np.array(Pre.astype('float32'))\n",
        " \n",
        "data_len = len(data_x)\n",
        "t = np.linspace(0, data_len, data_len + 1)\n",
        " \n",
        "train_data_ratio = 0.8  # Choose 80% of the data for training\n",
        "train_data_len = int(data_len * train_data_ratio)\n",
        " \n",
        "#train_x = data_x[5:train_data_len]\n",
        "#train_y = data_y[5:train_data_len]\n",
        "train_x = data_x[train_data_len]\n",
        "train_y = data_y[train_data_len]\n",
        "#t_for_training = t[5:train_data_len]\n",
        " \n",
        "test_x = data_x[train_data_len:]\n",
        "test_y = data_y[train_data_len:]\n",
        "t_for_testing = t[train_data_len:]\n",
        "'''"
      ]
    },
    {
      "cell_type": "code",
      "execution_count": 57,
      "metadata": {
        "colab": {
          "base_uri": "https://localhost:8080/"
        },
        "id": "7zz2ubapuoMh",
        "outputId": "8f4df769-8ed6-4004-ab6c-71a6da9b4111"
      },
      "outputs": [
        {
          "data": {
            "text/plain": [
              "(2,)"
            ]
          },
          "execution_count": 57,
          "metadata": {},
          "output_type": "execute_result"
        }
      ],
      "source": [
        "train_x.shape"
      ]
    },
    {
      "cell_type": "code",
      "execution_count": 44,
      "metadata": {
        "colab": {
          "base_uri": "https://localhost:8080/",
          "height": 232
        },
        "id": "di17UpnhtekC",
        "outputId": "4861acac-628e-4bc5-fcb1-6ef88b959ebb"
      },
      "outputs": [
        {
          "ename": "ValueError",
          "evalue": "cannot reshape array of size 2 into shape (1,5)",
          "output_type": "error",
          "traceback": [
            "\u001b[0;31m---------------------------------------------------------------------------\u001b[0m",
            "\u001b[0;31mValueError\u001b[0m                                Traceback (most recent call last)",
            "Cell \u001b[0;32mIn [44], line 4\u001b[0m\n\u001b[1;32m      2\u001b[0m INPUT_FEATURES_NUM \u001b[39m=\u001b[39m \u001b[39m5\u001b[39m\n\u001b[1;32m      3\u001b[0m OUTPUT_FEATURES_NUM \u001b[39m=\u001b[39m \u001b[39m1\u001b[39m\n\u001b[0;32m----> 4\u001b[0m train_x_tensor \u001b[39m=\u001b[39m train_x\u001b[39m.\u001b[39;49mreshape(\u001b[39m-\u001b[39;49m\u001b[39m1\u001b[39;49m, \u001b[39m1\u001b[39;49m, INPUT_FEATURES_NUM)  \u001b[39m# set batch size to 1\u001b[39;00m\n\u001b[1;32m      5\u001b[0m train_y_tensor \u001b[39m=\u001b[39m train_y\u001b[39m.\u001b[39mreshape(\u001b[39m-\u001b[39m\u001b[39m1\u001b[39m, \u001b[39m1\u001b[39m, OUTPUT_FEATURES_NUM)  \u001b[39m# set batch size to 1\u001b[39;00m\n\u001b[1;32m      7\u001b[0m \u001b[39m# transfer data to pytorch tensor\u001b[39;00m\n",
            "\u001b[0;31mValueError\u001b[0m: cannot reshape array of size 2 into shape (1,5)"
          ]
        }
      ],
      "source": [
        "# ----------------- train -------------------\n",
        "INPUT_FEATURES_NUM = 5\n",
        "OUTPUT_FEATURES_NUM = 1\n",
        "train_x_tensor = train_x.reshape(-1, 1, INPUT_FEATURES_NUM)  # set batch size to 1\n",
        "train_y_tensor = train_y.reshape(-1, 1, OUTPUT_FEATURES_NUM)  # set batch size to 1\n",
        " \n",
        "# transfer data to pytorch tensor\n",
        "train_x_tensor = torch.from_numpy(train_x_tensor)\n",
        "train_y_tensor = torch.from_numpy(train_y_tensor)"
      ]
    },
    {
      "cell_type": "code",
      "execution_count": 56,
      "metadata": {},
      "outputs": [
        {
          "data": {
            "text/plain": [
              "array([[[16095200.,  1043900., 16195400.,  1121300., 16092900.]],\n",
              "\n",
              "       [[ 1175200., 16183800.,  1138600., 16094500.,  1174700.]],\n",
              "\n",
              "       [[16465800.,   995700., 16376900.,  1034000., 16783900.]],\n",
              "\n",
              "       [[  873400., 16675300.,   917000., 16979600.,   788900.]],\n",
              "\n",
              "       [[16870400.,   860800., 17040900.,   964200., 16976300.]],\n",
              "\n",
              "       [[ 1017600., 16877600.,  1469500., 16755400.,  1528400.]],\n",
              "\n",
              "       [[16059800.,  2208300., 16007600.,  2235700., 16153000.]],\n",
              "\n",
              "       [[ 2217000., 16092500.,  2286200., 16397400.,  2119400.]],\n",
              "\n",
              "       [[16320800.,  2149800., 16774200.,  1819000., 16678600.]],\n",
              "\n",
              "       [[ 1857900., 16936300.,  1596300., 16951100.,  1602700.]],\n",
              "\n",
              "       [[17496100.,  1301500., 17413800.,  1346900., 17766500.]],\n",
              "\n",
              "       [[ 1071700., 17724500.,  1099900., 18074800.,  1017000.]],\n",
              "\n",
              "       [[18028400.,  1043300., 18375400.,   829200., 18316600.]],\n",
              "\n",
              "       [[  887500., 18587800.,   774600., 18483700.,   824800.]],\n",
              "\n",
              "       [[18781300.,   747700., 18680000.,   791400., 17041400.]],\n",
              "\n",
              "       [[ 1687800., 16820500.,  1764200., 17974300.,  1109400.]],\n",
              "\n",
              "       [[17860800.,  1163500.,  9145965.,   941228.,  9120389.]],\n",
              "\n",
              "       [[  937548.,  9807444.,   830785.,  9759799.,   821459.]],\n",
              "\n",
              "       [[10354660.,   724867., 10336820.,   740645., 10757313.]],\n",
              "\n",
              "       [[  681876., 10740319.,   703118., 10880321.,   817406.]],\n",
              "\n",
              "       [[10849153.,   831681., 10972445.,   965570., 10926218.]],\n",
              "\n",
              "       [[  975514., 10930986.,  1341835., 10915325.,  1347378.]],\n",
              "\n",
              "       [[11328589.,  1040748., 11293760.,  1067493., 11849470.]],\n",
              "\n",
              "       [[  915480., 11825891.,   953550., 12178973.,   882750.]],\n",
              "\n",
              "       [[12161186.,   906621., 12642286.,   882756., 12616408.]],\n",
              "\n",
              "       [[  888622., 13156107.,   750944., 13138322.,   763023.]],\n",
              "\n",
              "       [[13574082.,   730008., 13552984.,   739457., 13955361.]],\n",
              "\n",
              "       [[  753949., 13937435.,   761215., 14124100.,   989800.]],\n",
              "\n",
              "       [[14126700.,  1006600., 13932900.,  1208300., 13918900.]],\n",
              "\n",
              "       [[ 1250400., 13829400.,  1480100., 13819500.,  1499500.]],\n",
              "\n",
              "       [[13841900.,  1377600., 13831100.,  1425500., 14071900.]],\n",
              "\n",
              "       [[ 1190100., 14034900.,  1227700., 14075200.,  1177600.]],\n",
              "\n",
              "       [[14048700.,  1201800., 14492800.,  1076400., 14468400.]],\n",
              "\n",
              "       [[ 1087500., 15030400.,   926700., 14989400.,   971900.]],\n",
              "\n",
              "       [[15371400.,   922300., 15351400.,   950600., 15750600.]],\n",
              "\n",
              "       [[  811100., 15742400.,   832900., 16153900.,   790300.]],\n",
              "\n",
              "       [[16160000.,   806000., 16096800.,  1068900., 16081400.]],\n",
              "\n",
              "       [[ 1080300., 16079300.,  1174700., 16082500.,  1182300.]],\n",
              "\n",
              "       [[16167000.,  1155300., 16121700.,  1159500., 16463100.]],\n",
              "\n",
              "       [[ 1013800., 16394200.,  1023700., 16711800.,   913400.]],\n",
              "\n",
              "       [[16680400.,   907800., 16957900.,   841200., 16900800.]],\n",
              "\n",
              "       [[  862700., 17068400.,   996700., 16980300.,  1035300.]],\n",
              "\n",
              "       [[16767600.,  1544800., 16691200.,  1616400., 16065200.]],\n",
              "\n",
              "       [[ 2192700., 15981200.,  2256100., 16110600.,  2292200.]],\n",
              "\n",
              "       [[16093700.,  2282800., 16419500.,  2053400., 16356600.]],\n",
              "\n",
              "       [[ 2119200., 16766400.,  1764500., 16717300.,  1836000.]],\n",
              "\n",
              "       [[17020100.,  1537100., 16971700.,  1576200., 17501800.]],\n",
              "\n",
              "       [[ 1302100., 17452000.,  1323800., 17806500.,  1067800.]],\n",
              "\n",
              "       [[17762500.,  1089900., 18102800.,   975800., 18044700.]],\n",
              "\n",
              "       [[ 1035300., 18400700.,   823200., 18320800.,   872300.]],\n",
              "\n",
              "       [[18617700.,   761400., 18490200.,   831500., 18821300.]],\n",
              "\n",
              "       [[  740900., 18714200.,   793400., 17048600.,  1646400.]],\n",
              "\n",
              "       [[16892600.,  1708200., 18140600.,   988400., 17860300.]],\n",
              "\n",
              "       [[ 1103700.,  9194201.,   909011.,  9157978.,   938342.]],\n",
              "\n",
              "       [[ 9870116.,   756257.,  9812886.,   814451., 10391976.]],\n",
              "\n",
              "       [[  711558., 10378926.,   733440., 10815706.,   659878.]],\n",
              "\n",
              "       [[10768752.,   703953., 10880543.,   756405., 10869860.]],\n",
              "\n",
              "       [[  829210., 10908953.,   984084., 10921096.,  1017756.]],\n",
              "\n",
              "       [[10903348.,  1336719., 10907614.,  1356607., 11339740.]],\n",
              "\n",
              "       [[ 1008592., 11330300.,  1044338., 11879972.,   904187.]],\n",
              "\n",
              "       [[11875139.,   947594., 12192415.,   850314., 12194718.]],\n",
              "\n",
              "       [[  900768., 12648100.,   818170., 12650246.,   881804.]],\n",
              "\n",
              "       [[13182350.,   698009., 13178776.,   758293., 13572670.]],\n",
              "\n",
              "       [[  685343., 13593580.,   731357., 13930792.,   717818.]],\n",
              "\n",
              "       [[13970785.,   766472., 14097800.,   995700., 14082500.]],\n",
              "\n",
              "       [[ 1044100., 13902800.,  1223000., 13909000.,  1278600.]],\n",
              "\n",
              "       [[13831800.,  1451900., 13804700.,  1498900., 13876500.]],\n",
              "\n",
              "       [[ 1328700., 13846000.,  1422400., 14085600.,  1122900.]],\n",
              "\n",
              "       [[14060100.,  1204300., 14030600.,  1122200., 14009700.]],\n",
              "\n",
              "       [[ 1196200., 14526300.,  1023100., 14504000.,  1083400.]],\n",
              "\n",
              "       [[15069400.,   924200., 15023100.,   968200., 15428700.]],\n",
              "\n",
              "       [[  878500., 15378100.,   936600., 15829900.,   780900.]],\n",
              "\n",
              "       [[15790100.,   828400., 16257800.,   754800., 16196400.]],\n",
              "\n",
              "       [[  807800., 16120500.,  1074300., 16072000.,  1109800.]],\n",
              "\n",
              "       [[16090300.,  1166500., 16072100.,  1187600., 16179900.]],\n",
              "\n",
              "       [[ 1089400., 16148800.,  1147500., 16453500.,   983600.]],\n",
              "\n",
              "       [[16412600.,  1014400., 16719400.,   862300., 16687600.]],\n",
              "\n",
              "       [[  896200., 16984000.,   831000., 16924600.,   866600.]],\n",
              "\n",
              "       [[16988800.,  1050300., 16982100.,  1050400., 16631100.]],\n",
              "\n",
              "       [[ 1671800., 16614400.,  1712900., 15935400.,  2219100.]],\n",
              "\n",
              "       [[15975900.,  2278100., 16082400.,  2241500., 16100800.]],\n",
              "\n",
              "       [[ 2269300., 16382700.,  2056400., 16381600.,  2087600.]],\n",
              "\n",
              "       [[16731200.,  1794800., 16747300.,  1815400., 16979200.]],\n",
              "\n",
              "       [[ 1482500., 17001900.,  1552300., 17442600.,  1240500.]],\n",
              "\n",
              "       [[17484600.,  1300800., 17770600.,  1049800., 17804200.]],\n",
              "\n",
              "       [[ 1082100., 18010800.,   980200., 18068400.,  1021700.]],\n",
              "\n",
              "       [[18290000.,   823100., 18331900.,   857100., 18499900.]],\n",
              "\n",
              "       [[  812000., 18501800.,   833900., 18742400.,   750600.]],\n",
              "\n",
              "       [[18738500.,   797100., 16929300.,  1684400., 16957900.]],\n",
              "\n",
              "       [[ 1713000., 18127700.,   913300., 17851000.,  1095100.]]],\n",
              "      dtype=float32)"
            ]
          },
          "execution_count": 56,
          "metadata": {},
          "output_type": "execute_result"
        }
      ],
      "source": [
        "test_x.reshape(-1,1,5)"
      ]
    },
    {
      "cell_type": "code",
      "execution_count": null,
      "metadata": {
        "id": "vtcEc65XtkgX"
      },
      "outputs": [],
      "source": [
        "lstm_model = LstmRNN(INPUT_FEATURES_NUM, 20, output_size=OUTPUT_FEATURES_NUM, num_layers=1)  # 20 hidden units\n",
        "print('LSTM model:', lstm_model)\n",
        "print('model.parameters:', lstm_model.parameters)\n",
        "print('train x tensor dimension:', Variable(train_x_tensor).size())\n",
        " \n",
        "criterion = nn.MSELoss()\n",
        "optimizer = torch.optim.Adam(lstm_model.parameters(), lr=1e-2)\n",
        " \n",
        "prev_loss = 1000\n",
        "max_epochs = 2000"
      ]
    },
    {
      "cell_type": "code",
      "execution_count": null,
      "metadata": {
        "id": "b6tAQIKEtmJc"
      },
      "outputs": [],
      "source": [
        "train_x_tensor = train_x_tensor.to(device)\n",
        " \n",
        "for epoch in range(max_epochs):\n",
        "    output = lstm_model(train_x_tensor).to(device)\n",
        "    loss = criterion(output, train_y_tensor)\n",
        " \n",
        "    optimizer.zero_grad()\n",
        "    loss.backward()\n",
        "    optimizer.step()\n",
        " \n",
        "    if loss < prev_loss:\n",
        "        torch.save(lstm_model.state_dict(), 'lstm_model.pt')  # save model parameters to files\n",
        "        prev_loss = loss\n",
        " \n",
        "    if loss.item() < 1e-4:\n",
        "        print('Epoch [{}/{}], Loss: {:.5f}'.format(epoch + 1, max_epochs, loss.item()))\n",
        "        print(\"The loss value is reached\")\n",
        "        break\n",
        "    elif (epoch + 1) % 100 == 0:\n",
        "        print('Epoch: [{}/{}], Loss:{:.5f}'.format(epoch + 1, max_epochs, loss.item()))"
      ]
    },
    {
      "cell_type": "code",
      "execution_count": null,
      "metadata": {
        "id": "_cWp9-o8t3LK"
      },
      "outputs": [],
      "source": [
        "# prediction on training dataset\n",
        "pred_y_for_train = lstm_model(train_x_tensor).to(device)\n",
        "pred_y_for_train = pred_y_for_train.view(-1, OUTPUT_FEATURES_NUM).data.numpy()\n",
        " \n",
        "# ----------------- test -------------------\n",
        "lstm_model = lstm_model.eval()  # switch to testing model\n",
        " \n",
        "# prediction on test dataset\n",
        "test_x_tensor = test_x.reshape(-1, 1,\n",
        "                                   INPUT_FEATURES_NUM)\n",
        "test_x_tensor = torch.from_numpy(test_x_tensor)  \n",
        "test_x_tensor = test_x_tensor.to(device)\n",
        " \n",
        "pred_y_for_test = lstm_model(test_x_tensor).to(device)\n",
        "pred_y_for_test = pred_y_for_test.view(-1, OUTPUT_FEATURES_NUM).data.numpy()\n",
        " \n",
        "loss = criterion(torch.from_numpy(pred_y_for_test), torch.from_numpy(test_y))\n",
        "print(\"test loss：\", loss.item())"
      ]
    },
    {
      "cell_type": "code",
      "execution_count": null,
      "metadata": {
        "id": "-jngoNx_YR9N"
      },
      "outputs": [],
      "source": [
        "# ----------------- plot -------------------\n",
        "plt.figure()\n",
        "plt.plot(t_for_training, train_y, 'b', label='y_trn')\n",
        "plt.plot(t_for_training, pred_y_for_train, 'y--', label='pre_trn')\n",
        " \n",
        "plt.plot(t_for_testing, test_y, 'k', label='y_tst')\n",
        "plt.plot(t_for_testing, pred_y_for_test, 'm--', label='pre_tst')\n",
        " \n",
        "plt.xlabel('t')\n",
        "plt.ylabel('Vce')\n",
        "plt.show()\n"
      ]
    },
    {
      "cell_type": "markdown",
      "metadata": {
        "id": "6r7h2LjL8yws"
      },
      "source": [
        "# RNN\n"
      ]
    },
    {
      "cell_type": "code",
      "execution_count": null,
      "metadata": {
        "id": "JZD9RlN-81gr"
      },
      "outputs": [],
      "source": [
        "RNN_df = pd.read_pickle(\"./unemployment_working_data.pkl\") \n",
        "RNN_df.head()"
      ]
    },
    {
      "cell_type": "code",
      "execution_count": null,
      "metadata": {
        "id": "xY5xagYE92qq"
      },
      "outputs": [],
      "source": []
    }
  ],
  "metadata": {
    "colab": {
      "provenance": []
    },
    "kernelspec": {
      "display_name": "Python 3.10.6 ('t')",
      "language": "python",
      "name": "python3"
    },
    "language_info": {
      "codemirror_mode": {
        "name": "ipython",
        "version": 3
      },
      "file_extension": ".py",
      "mimetype": "text/x-python",
      "name": "python",
      "nbconvert_exporter": "python",
      "pygments_lexer": "ipython3",
      "version": "3.10.6"
    },
    "vscode": {
      "interpreter": {
        "hash": "4a89a1f5f3b105a28e1f35cdaa9cd940f48b89a4ee25f50aec443b712f65a6cf"
      }
    }
  },
  "nbformat": 4,
  "nbformat_minor": 0
}
